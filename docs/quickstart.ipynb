{
 "cells": [
  {
   "cell_type": "markdown",
   "metadata": {},
   "source": [
    "# Quickstart\n",
    "\n",
    "`marketmaps` is a toolbox to explore markets in maps. Specifically, `marketmaps` \n",
    "provides tools to derive spatial representations of market actors' competitive positions (e.g., positions of firms, brands or products). \n",
    " \n",
    "This tutorial gives a \n",
    "high-level overview about the different tools available to do so.  \n",
    "\n",
    "In general, raw (market) data is expected in the form of either higher-dimensional attribute vectors, or in the form of pairwise relationships. \n",
    "\n",
    "Given such data, `marketmaps` provides a flexible set of tools to process and manipulate the data, map it to lower-dimensional space, evaluate and explore the resultant market maps.\n",
    "\n",
    "\n",
    "## Module Overview\n",
    "\n",
    "`marketmaps` entails the following main modules:\n",
    "\n",
    "1. `marketmaps.preprocessing`: Tools for preprocessing input data.\n",
    "2. `marketmaps.mapping`: Tools for mapping input data to lower-dimensional space.\n",
    "3. `marketmaps.printer`: Tools for drawing and annotating market maps.\n",
    "4. `marketmaps.metrics`: Tools for evaluating market maps quantitatively.\n",
    "5. `marketmaps.export`: Tools for exporting market maps for further usage. \n",
    "\n",
    "Besides, it includes the additional module:\n",
    "6. `marketmaps.datasets`: example datasets used for these tutorials. \n",
    "\n",
    "\n",
    "## Example Application\n",
    "\n",
    "For a quick high-level overview of how these modules work together, we generate a market map for a subsample of the TNIC data provided by Hoberg & Philips:\n"
   ]
  },
  {
   "cell_type": "markdown",
   "metadata": {},
   "source": [
    "### Step 1: Getting the Relationship Data\n",
    "\n",
    "For this quick example, we use the 'Text-Based Network Industry (TNIC)' data, developed by Hoberg & Philips. \n",
    "The original data is provided at https://hobergphillips.tuck.dartmouth.edu/. If you use these data, please cite the authors' work. \n",
    "\n",
    "Here, we use a smaller subsample taken from thes data included in the `marketmaps.datasets` module. "
   ]
  },
  {
   "cell_type": "code",
   "execution_count": 1,
   "metadata": {
    "ExecuteTime": {
     "end_time": "2022-04-19T13:35:58.274407Z",
     "start_time": "2022-04-19T13:35:58.072923Z"
    }
   },
   "outputs": [],
   "source": [
    "from marketmaps.datasets import load_tnic_sample\n",
    "tnic_sample = load_tnic_sample()"
   ]
  },
  {
   "cell_type": "code",
   "execution_count": 2,
   "metadata": {
    "ExecuteTime": {
     "end_time": "2022-04-19T13:35:58.290333Z",
     "start_time": "2022-04-19T13:35:58.277368Z"
    }
   },
   "outputs": [],
   "source": [
    "sim_mat = tnic_sample['matrix']\n",
    "labels = tnic_sample['labels']\n",
    "cluster = tnic_sample['cluster']"
   ]
  },
  {
   "cell_type": "markdown",
   "metadata": {},
   "source": [
    "The main data consists of a symmetric matrix of pairwise similarities. \n",
    "Beyond, we provide firm labels and cluster memberships (derived via community detection). "
   ]
  },
  {
   "cell_type": "code",
   "execution_count": 3,
   "metadata": {},
   "outputs": [
    {
     "name": "stdout",
     "output_type": "stream",
     "text": [
      "Smallest matrix entry:  0.0 \n",
      " Largest matrix entry:  0.8652\n",
      "Similarity between AMERICAN AIRLINES GROUP INC and AARONS HOLDINGS COMPANY INC: 0.0\n"
     ]
    }
   ],
   "source": [
    "import numpy as np \n",
    "print(\"Smallest matrix entry: \", np.min(sim_mat), \"\\n\",  \"Largest matrix entry: \", np.max(sim_mat))\n",
    "print(\"Similarity between {0} and {1}: {2}\".format(labels[0], labels[1], sim_mat[0,1]))"
   ]
  },
  {
   "cell_type": "markdown",
   "metadata": {},
   "source": [
    "### Step 2: Preprocessing relationship data\n"
   ]
  },
  {
   "cell_type": "markdown",
   "metadata": {},
   "source": [
    "Different mapping methods require different input data. Here, the input data connsists of *pairiwse similarities*. To map them to 2D space via Multidimensional Scaling, \n",
    "we require *pariwise distances*. Among other features, `marketmaps.preprocessing` provides various transformations between such different types of relationship data.\n",
    "\n",
    "One simple way to do so is by mirroring:  "
   ]
  },
  {
   "cell_type": "code",
   "execution_count": 4,
   "metadata": {
    "ExecuteTime": {
     "end_time": "2022-04-19T13:35:58.857814Z",
     "start_time": "2022-04-19T13:35:58.293331Z"
    }
   },
   "outputs": [
    {
     "name": "stdout",
     "output_type": "stream",
     "text": [
      "Smallest matrix entry:  0.0 \n",
      " Largest matrix entry:  0.8652\n",
      "Distance between AMERICAN AIRLINES GROUP INC and AARONS HOLDINGS COMPANY INC: 0.8652\n"
     ]
    }
   ],
   "source": [
    "from marketmaps.preprocessing import sim2dist\n",
    "dist_mat = sim2dist(sim_mat, transformation= 'mirror')\n",
    "print(\"Smallest matrix entry: \", np.min(dist_mat), \"\\n\",  \"Largest matrix entry: \", np.max(dist_mat))\n",
    "print(\"Distance between {0} and {1}: {2}\".format(labels[0], labels[1], dist_mat[0,1]))"
   ]
  },
  {
   "cell_type": "markdown",
   "metadata": {},
   "source": [
    "### Step 3: Mapping relationship data to lower-dimensional space\n",
    "\n",
    "The `marketmaps.mapping` provides implementations of multiple different mapping methods. \n",
    "\n",
    "Here, we apply (classic) Multidimensional Scaling (aka. Principal Coordinate Analysis):"
   ]
  },
  {
   "cell_type": "code",
   "execution_count": 5,
   "metadata": {
    "ExecuteTime": {
     "end_time": "2022-04-19T13:36:01.109794Z",
     "start_time": "2022-04-19T13:35:58.860808Z"
    }
   },
   "outputs": [],
   "source": [
    "from marketmaps.mapping import CMDS\n",
    "model = CMDS(n_dims = 2).fit(dist_mat)\n",
    "map_coords = model.Y"
   ]
  },
  {
   "cell_type": "markdown",
   "metadata": {},
   "source": [
    "The resultant model output is a 2D array of shape (n_samples, 2) containing the map coordinates."
   ]
  },
  {
   "cell_type": "code",
   "execution_count": 6,
   "metadata": {},
   "outputs": [
    {
     "data": {
      "text/plain": [
       "(1092, 2)"
      ]
     },
     "execution_count": 6,
     "metadata": {},
     "output_type": "execute_result"
    }
   ],
   "source": [
    "map_coords.shape"
   ]
  },
  {
   "cell_type": "markdown",
   "metadata": {
    "ExecuteTime": {
     "end_time": "2022-04-19T13:26:04.581553Z",
     "start_time": "2022-04-19T13:26:04.560608Z"
    }
   },
   "source": [
    "### Step 4: Drawing market maps\n",
    "\n",
    "While one could simply visualize these coordinates in a scatter plot, "
   ]
  },
  {
   "cell_type": "code",
   "execution_count": 14,
   "metadata": {
    "ExecuteTime": {
     "end_time": "2022-04-19T13:36:01.561589Z",
     "start_time": "2022-04-19T13:36:01.110792Z"
    }
   },
   "outputs": [
    {
     "data": {
      "text/plain": [
       "<AxesSubplot:title={'center':'Classic Scaling of TNIC Data'}>"
      ]
     },
     "execution_count": 14,
     "metadata": {},
     "output_type": "execute_result"
    },
    {
     "data": {
      "image/png": "[encoded data removed]",
      "text/plain": [
       "<Figure size 360x360 with 1 Axes>"
      ]
     },
     "metadata": {
      "needs_background": "light"
     },
     "output_type": "display_data"
    }
   ],
   "source": [
    "from marketmaps.printer import draw_map\n",
    "draw_map(map_coords, cluster, \n",
    "         labels = labels, \n",
    "         highlight_labels= ['APPLE INC', 'MORGAN STANLEY', 'PFIZER INC'], \n",
    "         annotate = 'labels', \n",
    "         title_str = \"Classic Scaling of TNIC Data\")"
   ]
  },
  {
   "cell_type": "markdown",
   "metadata": {},
   "source": [
    "### Step 5: Evaluating market maps"
   ]
  },
  {
   "cell_type": "code",
   "execution_count": 20,
   "metadata": {},
   "outputs": [
    {
     "data": {
      "text/plain": [
       "0.09184142316589614"
      ]
     },
     "execution_count": 20,
     "metadata": {},
     "output_type": "execute_result"
    }
   ],
   "source": [
    "from marketmaps.metrics import adjusted_hitrate_score \n",
    "adjusted_hitrate_score(dist_mat, map_coords, input_type= 'distance')"
   ]
  },
  {
   "cell_type": "markdown",
   "metadata": {},
   "source": [
    "### Step 6: Explore in Browser"
   ]
  },
  {
   "cell_type": "markdown",
   "metadata": {},
   "source": [
    "To ease interactive exploration, `marketmaps` also provides an interface to an interactive browser application. \n",
    "\n",
    "*** WORK IN PROGRESS *** "
   ]
  },
  {
   "cell_type": "markdown",
   "metadata": {},
   "source": []
  }
 ],
 "metadata": {
  "kernelspec": {
   "display_name": "Python 3",
   "language": "python",
   "name": "python3"
  },
  "language_info": {
   "codemirror_mode": {
    "name": "ipython",
    "version": 3
   },
   "file_extension": ".py",
   "mimetype": "text/x-python",
   "name": "python",
   "nbconvert_exporter": "python",
   "pygments_lexer": "ipython3",
   "version": "3.9.12"
  },
  "toc": {
   "base_numbering": 1,
   "nav_menu": {},
   "number_sections": true,
   "sideBar": true,
   "skip_h1_title": false,
   "title_cell": "Table of Contents",
   "title_sidebar": "Contents",
   "toc_cell": false,
   "toc_position": {},
   "toc_section_display": true,
   "toc_window_display": false
  },
  "varInspector": {
   "cols": {
    "lenName": 16,
    "lenType": 16,
    "lenVar": 40
   },
   "kernels_config": {
    "python": {
     "delete_cmd_postfix": "",
     "delete_cmd_prefix": "del ",
     "library": "var_list.py",
     "varRefreshCmd": "print(var_dic_list())"
    },
    "r": {
     "delete_cmd_postfix": ") ",
     "delete_cmd_prefix": "rm(",
     "library": "var_list.r",
     "varRefreshCmd": "cat(var_dic_list()) "
    }
   },
   "types_to_exclude": [
    "module",
    "function",
    "builtin_function_or_method",
    "instance",
    "_Feature"
   ],
   "window_display": false
  }
 },
 "nbformat": 4,
 "nbformat_minor": 4
}
