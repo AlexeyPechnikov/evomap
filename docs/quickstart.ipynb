{
 "cells": [
  {
   "cell_type": "markdown",
   "metadata": {},
   "source": [
    "# Quickstart\n",
    " \n",
    "This tutorial provides a quick overview about the different tools available in `evomap`.  \n",
    "\n",
    "In general, input data is expected in the form of either higher-dimensional feature vectors, or in the form of pairwise relationships. \n",
    "\n",
    "Given such data, `evomap` provides a flexible set of tools to process and manipulate the data, map it to lower-dimensional space, and to evaluate and explore the resultant maps.\n",
    "\n",
    "## Background\n",
    "\n",
    "**Last updated:** September 2022\n",
    "\n",
    "\n",
    "This quickstart guide is based on the following paper. *If you use this package or parts of its code, please cite our work*.\n",
    "\n",
    "**References**\n",
    "\n",
    "<a name = \"ref_1\"></a>\n",
    "``` \n",
    "[1]Matthe, M., Ringel, D. M., Skiera, B. (2022), \"Mapping Market Structure Evolution\", Marketing Science, forthcoming.\n",
    "```\n",
    "\n",
    "\n",
    "Read the **full paper** here (open access): <a href = 'https://doi.org/10.1287/mksc.2022.1385'>https://doi.org/10.1287/mksc.2022.1385</a>\n",
    "\n",
    "**Contact:** For questions or feedback, please <a href = 'mailto:matthe@wiwi.uni-frankfurt.de'>get in touch</a>.\n",
    "\n",
    "## Module Overview\n",
    "\n",
    "`evomap` entails the following main modules:\n",
    "\n",
    "1. `evomap.preprocessing`: Tools for preprocessing input data.\n",
    "2. `evomap.mapping`: Tools for mapping input data to lower-dimensional space.\n",
    "3. `evomap.printer`: Tools for drawing and annotating maps.\n",
    "4. `evomap.metrics`: Tools for evaluating maps quantitatively.\n",
    "\n",
    "Besides, it includes a few additional module (such as `evomap.datasets`, which provides example datasets used for these tutorials). \n",
    "\n",
    "## Example Application\n",
    "\n",
    "For a high-level overview of how these modules work together, we generate a market structure map for the 'Text-Based Network Industry' (TNIC) data, provided by Hoberg & Philips. The original data is provided at https://hobergphillips.tuck.dartmouth.edu/. If you use these data, please cite their work."
   ]
  },
  {
   "cell_type": "markdown",
   "metadata": {},
   "source": [
    "### Step 1: Loading the Relationship Data\n",
    "\n",
    "We use a smal subsample taken from these data. The sample is included in the `evomap.datasets` module. "
   ]
  },
  {
   "cell_type": "code",
   "execution_count": 4,
   "metadata": {
    "ExecuteTime": {
     "end_time": "2022-04-19T13:35:58.274407Z",
     "start_time": "2022-04-19T13:35:58.072923Z"
    }
   },
   "outputs": [],
   "source": [
    "from evomap.datasets import load_tnic_sample_small\n",
    "df_tnic_sample = load_tnic_sample_small()"
   ]
  },
  {
   "cell_type": "code",
   "execution_count": 5,
   "metadata": {},
   "outputs": [
    {
     "data": {
      "text/html": [
       "<div>\n",
       "<style scoped>\n",
       "    .dataframe tbody tr th:only-of-type {\n",
       "        vertical-align: middle;\n",
       "    }\n",
       "\n",
       "    .dataframe tbody tr th {\n",
       "        vertical-align: top;\n",
       "    }\n",
       "\n",
       "    .dataframe thead th {\n",
       "        text-align: right;\n",
       "    }\n",
       "</style>\n",
       "<table border=\"1\" class=\"dataframe\">\n",
       "  <thead>\n",
       "    <tr style=\"text-align: right;\">\n",
       "      <th></th>\n",
       "      <th>year</th>\n",
       "      <th>gvkey1</th>\n",
       "      <th>gvkey2</th>\n",
       "      <th>score</th>\n",
       "      <th>name1</th>\n",
       "      <th>name2</th>\n",
       "      <th>sic1</th>\n",
       "      <th>sic2</th>\n",
       "      <th>size1</th>\n",
       "      <th>size2</th>\n",
       "    </tr>\n",
       "  </thead>\n",
       "  <tbody>\n",
       "    <tr>\n",
       "      <th>0</th>\n",
       "      <td>1998</td>\n",
       "      <td>1078</td>\n",
       "      <td>1602</td>\n",
       "      <td>0.0274</td>\n",
       "      <td>ABBOTT LABORATORIES</td>\n",
       "      <td>AMGEN INC</td>\n",
       "      <td>3845</td>\n",
       "      <td>2836</td>\n",
       "      <td>74.211937</td>\n",
       "      <td>36.866437</td>\n",
       "    </tr>\n",
       "    <tr>\n",
       "      <th>1</th>\n",
       "      <td>1999</td>\n",
       "      <td>1078</td>\n",
       "      <td>1602</td>\n",
       "      <td>0.0352</td>\n",
       "      <td>ABBOTT LABORATORIES</td>\n",
       "      <td>AMGEN INC</td>\n",
       "      <td>3845</td>\n",
       "      <td>2836</td>\n",
       "      <td>87.854384</td>\n",
       "      <td>48.541222</td>\n",
       "    </tr>\n",
       "    <tr>\n",
       "      <th>2</th>\n",
       "      <td>2000</td>\n",
       "      <td>1078</td>\n",
       "      <td>1602</td>\n",
       "      <td>0.0348</td>\n",
       "      <td>ABBOTT LABORATORIES</td>\n",
       "      <td>AMGEN INC</td>\n",
       "      <td>3845</td>\n",
       "      <td>2836</td>\n",
       "      <td>70.098508</td>\n",
       "      <td>93.428689</td>\n",
       "    </tr>\n",
       "    <tr>\n",
       "      <th>3</th>\n",
       "      <td>2001</td>\n",
       "      <td>1078</td>\n",
       "      <td>1602</td>\n",
       "      <td>0.0218</td>\n",
       "      <td>ABBOTT LABORATORIES</td>\n",
       "      <td>AMGEN INC</td>\n",
       "      <td>3845</td>\n",
       "      <td>2836</td>\n",
       "      <td>110.299430</td>\n",
       "      <td>34.410965</td>\n",
       "    </tr>\n",
       "    <tr>\n",
       "      <th>4</th>\n",
       "      <td>2002</td>\n",
       "      <td>1078</td>\n",
       "      <td>1602</td>\n",
       "      <td>0.0366</td>\n",
       "      <td>ABBOTT LABORATORIES</td>\n",
       "      <td>AMGEN INC</td>\n",
       "      <td>3845</td>\n",
       "      <td>2836</td>\n",
       "      <td>40.140853</td>\n",
       "      <td>42.840198</td>\n",
       "    </tr>\n",
       "  </tbody>\n",
       "</table>\n",
       "</div>"
      ],
      "text/plain": [
       "   year  gvkey1  gvkey2   score                name1      name2  sic1  sic2  \\\n",
       "0  1998    1078    1602  0.0274  ABBOTT LABORATORIES  AMGEN INC  3845  2836   \n",
       "1  1999    1078    1602  0.0352  ABBOTT LABORATORIES  AMGEN INC  3845  2836   \n",
       "2  2000    1078    1602  0.0348  ABBOTT LABORATORIES  AMGEN INC  3845  2836   \n",
       "3  2001    1078    1602  0.0218  ABBOTT LABORATORIES  AMGEN INC  3845  2836   \n",
       "4  2002    1078    1602  0.0366  ABBOTT LABORATORIES  AMGEN INC  3845  2836   \n",
       "\n",
       "        size1      size2  \n",
       "0   74.211937  36.866437  \n",
       "1   87.854384  48.541222  \n",
       "2   70.098508  93.428689  \n",
       "3  110.299430  34.410965  \n",
       "4   40.140853  42.840198  "
      ]
     },
     "execution_count": 5,
     "metadata": {},
     "output_type": "execute_result"
    }
   ],
   "source": [
    "df_tnic_sample.head()"
   ]
  },
  {
   "cell_type": "markdown",
   "metadata": {},
   "source": [
    "The data consists of a time-indexed *edgelist*. That is, each row corresponds to a firm-pair. The 'score' variable captures each pair's similarity."
   ]
  },
  {
   "cell_type": "markdown",
   "metadata": {},
   "source": [
    "To build a small subsample, we first select a handful of firms:"
   ]
  },
  {
   "cell_type": "code",
   "execution_count": 6,
   "metadata": {},
   "outputs": [],
   "source": [
    "firms = ['APPLE INC', 'AT&T INC', 'COMCAST CORP', 'HP INC',\n",
    "       'INTUIT INC', 'MICROSOFT CORP', 'ORACLE CORP', 'US CELLULAR CORP',\n",
    "       'WESTERN DIGITAL CORP']"
   ]
  },
  {
   "cell_type": "markdown",
   "metadata": {},
   "source": [
    "We then collect these firms' pairwise relationships at a single point in time:"
   ]
  },
  {
   "cell_type": "code",
   "execution_count": 7,
   "metadata": {},
   "outputs": [
    {
     "data": {
      "text/html": [
       "<div>\n",
       "<style scoped>\n",
       "    .dataframe tbody tr th:only-of-type {\n",
       "        vertical-align: middle;\n",
       "    }\n",
       "\n",
       "    .dataframe tbody tr th {\n",
       "        vertical-align: top;\n",
       "    }\n",
       "\n",
       "    .dataframe thead th {\n",
       "        text-align: right;\n",
       "    }\n",
       "</style>\n",
       "<table border=\"1\" class=\"dataframe\">\n",
       "  <thead>\n",
       "    <tr style=\"text-align: right;\">\n",
       "      <th></th>\n",
       "      <th>year</th>\n",
       "      <th>gvkey1</th>\n",
       "      <th>gvkey2</th>\n",
       "      <th>score</th>\n",
       "      <th>name1</th>\n",
       "      <th>name2</th>\n",
       "      <th>sic1</th>\n",
       "      <th>sic2</th>\n",
       "      <th>size1</th>\n",
       "      <th>size2</th>\n",
       "    </tr>\n",
       "  </thead>\n",
       "  <tbody>\n",
       "    <tr>\n",
       "      <th>4796</th>\n",
       "      <td>2000</td>\n",
       "      <td>1690</td>\n",
       "      <td>5606</td>\n",
       "      <td>0.0314</td>\n",
       "      <td>APPLE INC</td>\n",
       "      <td>HP INC</td>\n",
       "      <td>3663</td>\n",
       "      <td>3570</td>\n",
       "      <td>60.079253</td>\n",
       "      <td>190.637477</td>\n",
       "    </tr>\n",
       "    <tr>\n",
       "      <th>4852</th>\n",
       "      <td>2000</td>\n",
       "      <td>1690</td>\n",
       "      <td>11399</td>\n",
       "      <td>0.0813</td>\n",
       "      <td>APPLE INC</td>\n",
       "      <td>WESTERN DIGITAL CORP</td>\n",
       "      <td>3663</td>\n",
       "      <td>3572</td>\n",
       "      <td>10.652736</td>\n",
       "      <td>15.988003</td>\n",
       "    </tr>\n",
       "    <tr>\n",
       "      <th>4884</th>\n",
       "      <td>2000</td>\n",
       "      <td>1690</td>\n",
       "      <td>12141</td>\n",
       "      <td>0.0930</td>\n",
       "      <td>APPLE INC</td>\n",
       "      <td>MICROSOFT CORP</td>\n",
       "      <td>3663</td>\n",
       "      <td>7372</td>\n",
       "      <td>44.120740</td>\n",
       "      <td>619.890226</td>\n",
       "    </tr>\n",
       "    <tr>\n",
       "      <th>4904</th>\n",
       "      <td>2000</td>\n",
       "      <td>1690</td>\n",
       "      <td>12142</td>\n",
       "      <td>0.0096</td>\n",
       "      <td>APPLE INC</td>\n",
       "      <td>ORACLE CORP</td>\n",
       "      <td>3663</td>\n",
       "      <td>7370</td>\n",
       "      <td>33.605576</td>\n",
       "      <td>79.457232</td>\n",
       "    </tr>\n",
       "    <tr>\n",
       "      <th>10644</th>\n",
       "      <td>2000</td>\n",
       "      <td>3226</td>\n",
       "      <td>14369</td>\n",
       "      <td>0.0143</td>\n",
       "      <td>COMCAST CORP</td>\n",
       "      <td>US CELLULAR CORP</td>\n",
       "      <td>4841</td>\n",
       "      <td>4812</td>\n",
       "      <td>40.733093</td>\n",
       "      <td>9.311580</td>\n",
       "    </tr>\n",
       "  </tbody>\n",
       "</table>\n",
       "</div>"
      ],
      "text/plain": [
       "       year  gvkey1  gvkey2   score         name1                 name2  sic1  \\\n",
       "4796   2000    1690    5606  0.0314     APPLE INC                HP INC  3663   \n",
       "4852   2000    1690   11399  0.0813     APPLE INC  WESTERN DIGITAL CORP  3663   \n",
       "4884   2000    1690   12141  0.0930     APPLE INC        MICROSOFT CORP  3663   \n",
       "4904   2000    1690   12142  0.0096     APPLE INC           ORACLE CORP  3663   \n",
       "10644  2000    3226   14369  0.0143  COMCAST CORP      US CELLULAR CORP  4841   \n",
       "\n",
       "       sic2      size1       size2  \n",
       "4796   3570  60.079253  190.637477  \n",
       "4852   3572  10.652736   15.988003  \n",
       "4884   7372  44.120740  619.890226  \n",
       "4904   7370  33.605576   79.457232  \n",
       "10644  4812  40.733093    9.311580  "
      ]
     },
     "execution_count": 7,
     "metadata": {},
     "output_type": "execute_result"
    }
   ],
   "source": [
    "df_tnic_sample = df_tnic_sample.query('year == 2000').query('name1 in @firms').query('name2 in @firms')\n",
    "df_tnic_sample.head()"
   ]
  },
  {
   "cell_type": "markdown",
   "metadata": {},
   "source": [
    "To process these data via mapping methods, we first need to transform the edgeliste into square matrix form: "
   ]
  },
  {
   "cell_type": "code",
   "execution_count": 8,
   "metadata": {},
   "outputs": [],
   "source": [
    "from evomap.preprocessing import edgelist2matrix\n",
    "sim_mat, labels = edgelist2matrix(\n",
    "    df_tnic_sample, score_var = 'score', id_var_i= 'name1', id_var_j= 'name2')"
   ]
  },
  {
   "cell_type": "code",
   "execution_count": 9,
   "metadata": {
    "ExecuteTime": {
     "end_time": "2022-04-19T13:35:58.290333Z",
     "start_time": "2022-04-19T13:35:58.277368Z"
    }
   },
   "outputs": [
    {
     "data": {
      "text/plain": [
       "array([[0.  , 0.  , 0.  , 0.03, 0.  , 0.09, 0.01, 0.  , 0.08],\n",
       "       [0.  , 0.  , 0.  , 0.  , 0.  , 0.  , 0.  , 0.02, 0.  ],\n",
       "       [0.  , 0.  , 0.  , 0.  , 0.  , 0.  , 0.  , 0.01, 0.  ],\n",
       "       [0.03, 0.  , 0.  , 0.  , 0.  , 0.06, 0.1 , 0.  , 0.04],\n",
       "       [0.  , 0.  , 0.  , 0.  , 0.  , 0.04, 0.  , 0.  , 0.  ],\n",
       "       [0.09, 0.  , 0.  , 0.06, 0.04, 0.  , 0.08, 0.  , 0.06],\n",
       "       [0.01, 0.  , 0.  , 0.1 , 0.  , 0.08, 0.  , 0.  , 0.02],\n",
       "       [0.  , 0.02, 0.01, 0.  , 0.  , 0.  , 0.  , 0.  , 0.  ],\n",
       "       [0.08, 0.  , 0.  , 0.04, 0.  , 0.06, 0.02, 0.  , 0.  ]])"
      ]
     },
     "execution_count": 9,
     "metadata": {},
     "output_type": "execute_result"
    }
   ],
   "source": [
    "sim_mat.round(2)"
   ]
  },
  {
   "cell_type": "markdown",
   "metadata": {},
   "source": [
    "As a result, we obtain a symmetric matrix of pairwise similarities. "
   ]
  },
  {
   "cell_type": "code",
   "execution_count": 10,
   "metadata": {},
   "outputs": [
    {
     "name": "stdout",
     "output_type": "stream",
     "text": [
      "Smallest matrix entry: 0.00 \n",
      " Largest matrix entry: 0.10\n",
      "Similarity between MICROSOFT CORP and ORACLE CORP: 0.08\n",
      "Similarity between APPLE INC and HP INC: 0.03\n"
     ]
    }
   ],
   "source": [
    "import numpy as np \n",
    "print(\"Smallest matrix entry: {0:.2f} \\n Largest matrix entry: {1:.2f}\".format(np.min(sim_mat), np.max(sim_mat)))\n",
    "print(\"Similarity between {0} and {1}: {2:.2f}\".format(labels[5], labels[6], sim_mat[5,6]))\n",
    "print(\"Similarity between {0} and {1}: {2:.2f}\".format(labels[0], labels[3], sim_mat[0,3]))"
   ]
  },
  {
   "cell_type": "markdown",
   "metadata": {},
   "source": [
    "### Step 2: Preprocessing"
   ]
  },
  {
   "cell_type": "markdown",
   "metadata": {},
   "source": [
    "Different mapping methods require different input data. Here, the input data connsists of *pairiwse similarities*. We will map them to 2D space via Classic Multidimensional Scaling (CMDS). CMDS, however, requires *pariwise distances*. Among other features, `evomap.preprocessing` provides various transformations between such different types of relationship data.\n",
    "\n",
    "One simple way to transform similarities to distances is by mirroring them:  "
   ]
  },
  {
   "cell_type": "code",
   "execution_count": 11,
   "metadata": {
    "ExecuteTime": {
     "end_time": "2022-04-19T13:35:58.857814Z",
     "start_time": "2022-04-19T13:35:58.293331Z"
    }
   },
   "outputs": [
    {
     "name": "stdout",
     "output_type": "stream",
     "text": [
      "Smallest matrix entry: 0.00 \n",
      " Largest matrix entry: 0.10\n",
      "Distance between MICROSOFT CORP and ORACLE CORP: 0.02\n",
      "Distance between APPLE INC and HP INC: 0.07\n"
     ]
    }
   ],
   "source": [
    "from evomap.preprocessing import sim2dist\n",
    "dist_mat = sim2dist(sim_mat, transformation= 'mirror')\n",
    "print(\"Smallest matrix entry: {0:.2f} \\n Largest matrix entry: {1:.2f}\".format(np.min(dist_mat), np.max(dist_mat)))\n",
    "print(\"Distance between {0} and {1}: {2:.2f}\".format(labels[5], labels[6], dist_mat[5,6]))\n",
    "print(\"Distance between {0} and {1}: {2:.2f}\".format(labels[0], labels[3], dist_mat[0,3]))"
   ]
  },
  {
   "cell_type": "markdown",
   "metadata": {},
   "source": [
    "### Step 3: Mapping relationship data to lower-dimensional space\n",
    "\n",
    "With all input data in the right format, you can map it to lower-dimensional space. \n",
    "To do so, `evomap.mapping` provides implementations of multiple different mapping methods. \n",
    "\n",
    "Here, we apply (Classic) Multidimensional Scaling (aka. Principal Coordinate Analysis):"
   ]
  },
  {
   "cell_type": "code",
   "execution_count": 12,
   "metadata": {
    "ExecuteTime": {
     "end_time": "2022-04-19T13:36:01.109794Z",
     "start_time": "2022-04-19T13:35:58.860808Z"
    }
   },
   "outputs": [],
   "source": [
    "from evomap.mapping import CMDS\n",
    "model = CMDS(n_dims = 2).fit(dist_mat)\n",
    "map_coords = model.Y_"
   ]
  },
  {
   "cell_type": "markdown",
   "metadata": {},
   "source": [
    "The resultant model output is a 2D array of shape (n_samples, 2) containing the map coordinates."
   ]
  },
  {
   "cell_type": "code",
   "execution_count": 13,
   "metadata": {},
   "outputs": [
    {
     "data": {
      "text/plain": [
       "(9, 2)"
      ]
     },
     "execution_count": 13,
     "metadata": {},
     "output_type": "execute_result"
    }
   ],
   "source": [
    "map_coords.shape"
   ]
  },
  {
   "cell_type": "markdown",
   "metadata": {
    "ExecuteTime": {
     "end_time": "2022-04-19T13:26:04.581553Z",
     "start_time": "2022-04-19T13:26:04.560608Z"
    }
   },
   "source": [
    "### Step 4: Draw the map\n",
    "\n",
    "To visualize the estimated map coordinates, `evomap.printer` provides several functions (such as ```draw_map()```), which can create highly customizable maps."
   ]
  },
  {
   "cell_type": "code",
   "execution_count": 14,
   "metadata": {
    "ExecuteTime": {
     "end_time": "2022-04-19T13:36:01.561589Z",
     "start_time": "2022-04-19T13:36:01.110792Z"
    }
   },
   "outputs": [
    {
     "data": {
      "image/png": "[encoded data removed]",
      "text/plain": [
       "<Figure size 504x504 with 1 Axes>"
      ]
     },
     "execution_count": 14,
     "metadata": {},
     "output_type": "execute_result"
    }
   ],
   "source": [
    "from evomap.printer import draw_map\n",
    "draw_map(Y = map_coords,\n",
    "        labels = labels,\n",
    "        fig_size= (7,7),\n",
    "        title_str = \"Classic Scaling of TNIC Data\")"
   ]
  },
  {
   "cell_type": "markdown",
   "metadata": {},
   "source": [
    "### Step 5: Evaluating maps\n",
    "\n",
    "Finally, `evomap.metrics` provides typically used metrics to evaluate the resultant maps' goodness-of-fit (such as the hitrate of nearest neighbor recovery, adjusted for random agreement):"
   ]
  },
  {
   "cell_type": "code",
   "execution_count": 12,
   "metadata": {},
   "outputs": [
    {
     "name": "stdout",
     "output_type": "stream",
     "text": [
      "Hitrate of 3-nearest neighbor recovery (adjusted or random agreement): 0.33\n"
     ]
    }
   ],
   "source": [
    "from evomap.metrics import adjusted_hitrate_score \n",
    "score = adjusted_hitrate_score(\n",
    "    X = dist_mat, Y = map_coords, n_neighbors = 3, input_type= 'distance')\n",
    "\n",
    "print(\"Hitrate of 3-nearest neighbor recovery (adjusted or random agreement): {0:.2f}\".format(score))"
   ]
  },
  {
   "cell_type": "markdown",
   "metadata": {},
   "source": [
    "Naturally, `evomap` becomes more useful when moving beyond such a very simple application. \n",
    "\n",
    "For such more complex examples, check out the further examples. "
   ]
  }
 ],
 "metadata": {
  "interpreter": {
   "hash": "87ffa25eb3bb30b413c256579b892ccdc10cf1c52e8cd490d95c13bdebb280f2"
  },
  "kernelspec": {
   "display_name": "Python 3.9.12 ('evomap')",
   "language": "python",
   "name": "python3"
  },
  "language_info": {
   "codemirror_mode": {
    "name": "ipython",
    "version": 3
   },
   "file_extension": ".py",
   "mimetype": "text/x-python",
   "name": "python",
   "nbconvert_exporter": "python",
   "pygments_lexer": "ipython3",
   "version": "3.9.12"
  },
  "mystnb": {
   "execution_timeout": -1
  },
  "toc": {
   "base_numbering": 1,
   "nav_menu": {},
   "number_sections": true,
   "sideBar": true,
   "skip_h1_title": false,
   "title_cell": "Table of Contents",
   "title_sidebar": "Contents",
   "toc_cell": false,
   "toc_position": {},
   "toc_section_display": true,
   "toc_window_display": false
  },
  "varInspector": {
   "cols": {
    "lenName": 16,
    "lenType": 16,
    "lenVar": 40
   },
   "kernels_config": {
    "python": {
     "delete_cmd_postfix": "",
     "delete_cmd_prefix": "del ",
     "library": "var_list.py",
     "varRefreshCmd": "print(var_dic_list())"
    },
    "r": {
     "delete_cmd_postfix": ") ",
     "delete_cmd_prefix": "rm(",
     "library": "var_list.r",
     "varRefreshCmd": "cat(var_dic_list()) "
    }
   },
   "types_to_exclude": [
    "module",
    "function",
    "builtin_function_or_method",
    "instance",
    "_Feature"
   ],
   "window_display": false
  }
 },
 "nbformat": 4,
 "nbformat_minor": 4
}
