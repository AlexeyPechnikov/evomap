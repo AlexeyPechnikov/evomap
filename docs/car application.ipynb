{
 "cells": [
  {
   "cell_type": "markdown",
   "metadata": {},
   "source": [
    "# Application 1: Car Positioning\n",
    "\n",
    "## Example Application\n"
   ]
  },
  {
   "cell_type": "markdown",
   "metadata": {},
   "source": [
    "### Loading Example Data\n",
    "\n",
    "These example data consist of two files: \n",
    "\n",
    "- Perceptual attribute ratings for 10 competing cars\n",
    "- Customer preference ratings for these cars\n",
    "\n"
   ]
  },
  {
   "cell_type": "code",
   "execution_count": 1,
   "metadata": {
    "ExecuteTime": {
     "end_time": "2022-04-19T13:35:58.274407Z",
     "start_time": "2022-04-19T13:35:58.072923Z"
    }
   },
   "outputs": [],
   "source": [
    "from marketmaps.datasets import load_car_data\n",
    "data = load_car_data()\n",
    "df_attributes = data['attributes']\n",
    "df_preferences = data['preferences']"
   ]
  },
  {
   "cell_type": "code",
   "execution_count": 2,
   "metadata": {
    "ExecuteTime": {
     "end_time": "2022-04-19T13:35:58.290333Z",
     "start_time": "2022-04-19T13:35:58.277368Z"
    }
   },
   "outputs": [
    {
     "data": {
      "text/html": [
       "<div>\n",
       "<style scoped>\n",
       "    .dataframe tbody tr th:only-of-type {\n",
       "        vertical-align: middle;\n",
       "    }\n",
       "\n",
       "    .dataframe tbody tr th {\n",
       "        vertical-align: top;\n",
       "    }\n",
       "\n",
       "    .dataframe thead th {\n",
       "        text-align: right;\n",
       "    }\n",
       "</style>\n",
       "<table border=\"1\" class=\"dataframe\">\n",
       "  <thead>\n",
       "    <tr style=\"text-align: right;\">\n",
       "      <th></th>\n",
       "      <th>Attractive</th>\n",
       "      <th>Quiet</th>\n",
       "      <th>Unreliable</th>\n",
       "      <th>Poorly.Built</th>\n",
       "      <th>Interesting</th>\n",
       "      <th>Sporty</th>\n",
       "      <th>Uncomfortable</th>\n",
       "      <th>Roomy</th>\n",
       "      <th>Easy.to.Service</th>\n",
       "      <th>High.Prestige</th>\n",
       "      <th>Common</th>\n",
       "      <th>Economical</th>\n",
       "      <th>Successful</th>\n",
       "      <th>Avant.garde</th>\n",
       "      <th>Poor.Value</th>\n",
       "    </tr>\n",
       "    <tr>\n",
       "      <th>Car</th>\n",
       "      <th></th>\n",
       "      <th></th>\n",
       "      <th></th>\n",
       "      <th></th>\n",
       "      <th></th>\n",
       "      <th></th>\n",
       "      <th></th>\n",
       "      <th></th>\n",
       "      <th></th>\n",
       "      <th></th>\n",
       "      <th></th>\n",
       "      <th></th>\n",
       "      <th></th>\n",
       "      <th></th>\n",
       "      <th></th>\n",
       "    </tr>\n",
       "  </thead>\n",
       "  <tbody>\n",
       "    <tr>\n",
       "      <th>G20</th>\n",
       "      <td>5.6</td>\n",
       "      <td>6.3</td>\n",
       "      <td>2.9</td>\n",
       "      <td>1.6</td>\n",
       "      <td>3.6</td>\n",
       "      <td>4.1</td>\n",
       "      <td>3.2</td>\n",
       "      <td>4.2</td>\n",
       "      <td>4.6</td>\n",
       "      <td>5.4</td>\n",
       "      <td>3.5</td>\n",
       "      <td>3.6</td>\n",
       "      <td>5.3</td>\n",
       "      <td>4.3</td>\n",
       "      <td>3.4</td>\n",
       "    </tr>\n",
       "    <tr>\n",
       "      <th>Ford_T_Bird</th>\n",
       "      <td>4.0</td>\n",
       "      <td>3.6</td>\n",
       "      <td>4.2</td>\n",
       "      <td>4.2</td>\n",
       "      <td>5.0</td>\n",
       "      <td>4.9</td>\n",
       "      <td>4.0</td>\n",
       "      <td>3.9</td>\n",
       "      <td>4.9</td>\n",
       "      <td>3.5</td>\n",
       "      <td>3.6</td>\n",
       "      <td>3.7</td>\n",
       "      <td>4.2</td>\n",
       "      <td>3.6</td>\n",
       "      <td>4.3</td>\n",
       "    </tr>\n",
       "    <tr>\n",
       "      <th>Audi_90</th>\n",
       "      <td>4.6</td>\n",
       "      <td>5.2</td>\n",
       "      <td>3.7</td>\n",
       "      <td>2.6</td>\n",
       "      <td>4.0</td>\n",
       "      <td>3.8</td>\n",
       "      <td>2.4</td>\n",
       "      <td>5.3</td>\n",
       "      <td>3.5</td>\n",
       "      <td>5.6</td>\n",
       "      <td>3.4</td>\n",
       "      <td>3.6</td>\n",
       "      <td>5.0</td>\n",
       "      <td>3.6</td>\n",
       "      <td>4.3</td>\n",
       "    </tr>\n",
       "    <tr>\n",
       "      <th>Toyota_Supra</th>\n",
       "      <td>5.6</td>\n",
       "      <td>4.2</td>\n",
       "      <td>2.0</td>\n",
       "      <td>2.1</td>\n",
       "      <td>4.3</td>\n",
       "      <td>6.2</td>\n",
       "      <td>3.7</td>\n",
       "      <td>3.5</td>\n",
       "      <td>4.9</td>\n",
       "      <td>5.3</td>\n",
       "      <td>2.9</td>\n",
       "      <td>3.2</td>\n",
       "      <td>5.5</td>\n",
       "      <td>4.9</td>\n",
       "      <td>3.5</td>\n",
       "    </tr>\n",
       "    <tr>\n",
       "      <th>Eagle_Talon</th>\n",
       "      <td>4.0</td>\n",
       "      <td>3.5</td>\n",
       "      <td>4.3</td>\n",
       "      <td>4.3</td>\n",
       "      <td>3.9</td>\n",
       "      <td>4.9</td>\n",
       "      <td>4.0</td>\n",
       "      <td>3.6</td>\n",
       "      <td>4.6</td>\n",
       "      <td>2.8</td>\n",
       "      <td>4.3</td>\n",
       "      <td>4.9</td>\n",
       "      <td>3.7</td>\n",
       "      <td>4.4</td>\n",
       "      <td>3.6</td>\n",
       "    </tr>\n",
       "  </tbody>\n",
       "</table>\n",
       "</div>"
      ],
      "text/plain": [
       "              Attractive  Quiet  Unreliable  Poorly.Built  Interesting  \\\n",
       "Car                                                                      \n",
       "G20                  5.6    6.3         2.9           1.6          3.6   \n",
       "Ford_T_Bird          4.0    3.6         4.2           4.2          5.0   \n",
       "Audi_90              4.6    5.2         3.7           2.6          4.0   \n",
       "Toyota_Supra         5.6    4.2         2.0           2.1          4.3   \n",
       "Eagle_Talon          4.0    3.5         4.3           4.3          3.9   \n",
       "\n",
       "              Sporty  Uncomfortable  Roomy  Easy.to.Service  High.Prestige  \\\n",
       "Car                                                                          \n",
       "G20              4.1            3.2    4.2              4.6            5.4   \n",
       "Ford_T_Bird      4.9            4.0    3.9              4.9            3.5   \n",
       "Audi_90          3.8            2.4    5.3              3.5            5.6   \n",
       "Toyota_Supra     6.2            3.7    3.5              4.9            5.3   \n",
       "Eagle_Talon      4.9            4.0    3.6              4.6            2.8   \n",
       "\n",
       "              Common  Economical  Successful  Avant.garde  Poor.Value  \n",
       "Car                                                                    \n",
       "G20              3.5         3.6         5.3          4.3         3.4  \n",
       "Ford_T_Bird      3.6         3.7         4.2          3.6         4.3  \n",
       "Audi_90          3.4         3.6         5.0          3.6         4.3  \n",
       "Toyota_Supra     2.9         3.2         5.5          4.9         3.5  \n",
       "Eagle_Talon      4.3         4.9         3.7          4.4         3.6  "
      ]
     },
     "execution_count": 2,
     "metadata": {},
     "output_type": "execute_result"
    }
   ],
   "source": [
    "df_attributes.head()"
   ]
  },
  {
   "cell_type": "markdown",
   "metadata": {},
   "source": [
    "### Derive Car Positioning"
   ]
  },
  {
   "cell_type": "code",
   "execution_count": 3,
   "metadata": {},
   "outputs": [
    {
     "data": {
      "text/plain": [
       "array([[0.  , 5.28, 2.93, 3.48, 5.75, 2.7 , 3.11, 6.08, 2.29, 5.59],\n",
       "       [5.28, 0.  , 4.42, 4.75, 2.28, 4.35, 4.98, 1.82, 5.67, 1.97],\n",
       "       [2.93, 4.42, 0.  , 4.58, 5.25, 3.76, 2.76, 5.39, 3.21, 5.1 ],\n",
       "       [3.48, 4.75, 4.58, 0.  , 5.46, 3.51, 3.95, 4.73, 3.41, 4.91],\n",
       "       [5.75, 2.28, 5.25, 5.46, 0.  , 4.26, 5.35, 3.01, 6.19, 0.99],\n",
       "       [2.7 , 4.35, 3.76, 3.51, 4.26, 0.  , 3.27, 5.12, 3.07, 4.19],\n",
       "       [3.11, 4.98, 2.76, 3.95, 5.35, 3.27, 0.  , 5.9 , 2.69, 5.07],\n",
       "       [6.08, 1.82, 5.39, 4.73, 3.01, 5.12, 5.9 , 0.  , 6.34, 2.49],\n",
       "       [2.29, 5.67, 3.21, 3.41, 6.19, 3.07, 2.69, 6.34, 0.  , 5.85],\n",
       "       [5.59, 1.97, 5.1 , 4.91, 0.99, 4.19, 5.07, 2.49, 5.85, 0.  ]])"
      ]
     },
     "execution_count": 3,
     "metadata": {},
     "output_type": "execute_result"
    }
   ],
   "source": [
    "from scipy.spatial.distance import squareform, pdist\n",
    "dist_mat = squareform(pdist(df_attributes))\n",
    "dist_mat.round(2)"
   ]
  },
  {
   "cell_type": "code",
   "execution_count": 4,
   "metadata": {},
   "outputs": [
    {
     "data": {
      "text/plain": [
       "array([[-2.54,  0.04],\n",
       "       [ 2.43, -0.3 ],\n",
       "       [-1.53, -1.68],\n",
       "       [-1.09,  2.61],\n",
       "       [ 2.9 , -0.79],\n",
       "       [-1.  ,  0.11],\n",
       "       [-2.01, -0.98],\n",
       "       [ 3.1 ,  0.95],\n",
       "       [-2.96,  0.27],\n",
       "       [ 2.71, -0.23]])"
      ]
     },
     "execution_count": 4,
     "metadata": {},
     "output_type": "execute_result"
    }
   ],
   "source": [
    "from marketmaps.mapping import CMDS\n",
    "map_coords = CMDS(n_dims= 2).fit_transform(dist_mat)\n",
    "map_coords.round(2)"
   ]
  },
  {
   "cell_type": "code",
   "execution_count": 5,
   "metadata": {},
   "outputs": [
    {
     "data": {
      "image/png": "[encoded data removed]",
      "text/plain": [
       "<Figure size 504x504 with 1 Axes>"
      ]
     },
     "metadata": {
      "needs_background": "light"
     },
     "output_type": "display_data"
    }
   ],
   "source": [
    "from marketmaps.printer import draw_map\n",
    "import matplotlib.pyplot as plt\n",
    "\n",
    "car_labels = df_attributes.index\n",
    "\n",
    "map = draw_map(\n",
    "    map_coords, \n",
    "    labels = car_labels, \n",
    "    fig_size = (7,7),\n",
    "    annotate = 'labels')"
   ]
  },
  {
   "cell_type": "markdown",
   "metadata": {},
   "source": [
    "### Explain Positioning via Property Fitting\n"
   ]
  },
  {
   "cell_type": "code",
   "execution_count": 6,
   "metadata": {},
   "outputs": [
    {
     "data": {
      "text/plain": [
       "0.1999784787715831"
      ]
     },
     "execution_count": 6,
     "metadata": {},
     "output_type": "execute_result"
    }
   ],
   "source": [
    "import statsmodels.api as sm\n",
    "\n"
   ]
  },
  {
   "cell_type": "code",
   "execution_count": 26,
   "metadata": {},
   "outputs": [
    {
     "data": {
      "image/png": "[encoded data removed]",
      "text/plain": [
       "<Figure size 504x504 with 1 Axes>"
      ]
     },
     "metadata": {
      "needs_background": "light"
     },
     "output_type": "display_data"
    }
   ],
   "source": [
    "map = draw_map(\n",
    "    map_coords, \n",
    "    labels = car_labels, \n",
    "    fig_size = (7,7),\n",
    "    scatter_kws= {'s': 30},\n",
    "    annotate = 'labels')\n",
    "\n",
    "ax = map.axes[0]\n",
    "for attribute in df_attributes.columns:\n",
    "    X = map_coords\n",
    "    y = df_attributes[attribute]\n",
    "    est=sm.OLS(y, X)\n",
    "    result = est.fit().params\n",
    "    result['x1']\n",
    "    result['x2']\n",
    "    ax.arrow(0,0,result['x1']*10,result['x2']*10, linestyle = '--', lw = .25, alpha = .75, width = .001, color = 'grey',  head_width = 0.1)\n",
    "    ax.text(result['x1']*10.5, result['x2']*10.5, attribute, fontdict= {'size': 8, 'color': 'darkblue', 'weight': 'normal'})"
   ]
  },
  {
   "cell_type": "markdown",
   "metadata": {},
   "source": [
    "Different mapping methods require different input data. Here, the input data connsists of *pairiwse similarities*. To map them to 2D space via Multidimensional Scaling, \n",
    "we require *pariwise distances*. Among other features, `marketmaps.preprocessing` provides various transformations between such different types of relationship data.\n",
    "\n",
    "One simple way to do so is by mirroring:  "
   ]
  },
  {
   "cell_type": "code",
   "execution_count": null,
   "metadata": {
    "ExecuteTime": {
     "end_time": "2022-04-19T13:35:58.857814Z",
     "start_time": "2022-04-19T13:35:58.293331Z"
    }
   },
   "outputs": [],
   "source": [
    "from marketmaps.preprocessing import sim2dist\n",
    "dist_mat = sim2dist(sim_mat, transformation= 'mirror')\n",
    "print(\"Smallest matrix entry: {0:.2f} \\n Largest matrix entry: {1:.2f}\".format(np.min(dist_mat), np.max(dist_mat)))\n",
    "print(\"Distance between {0} and {1}: {2:.2f}\".format(labels[0], labels[6], dist_mat[0,6]))\n",
    "print(\"Distance between {0} and {1}: {2:.2f}\".format(labels[0], labels[3], dist_mat[0,3]))"
   ]
  },
  {
   "cell_type": "markdown",
   "metadata": {},
   "source": [
    "### Step 3: Mapping relationship data to lower-dimensional space\n",
    "\n",
    "The `marketmaps.mapping` provides implementations of multiple different mapping methods. \n",
    "\n",
    "Here, we apply (classic) Multidimensional Scaling (aka. Principal Coordinate Analysis):"
   ]
  },
  {
   "cell_type": "code",
   "execution_count": null,
   "metadata": {
    "ExecuteTime": {
     "end_time": "2022-04-19T13:36:01.109794Z",
     "start_time": "2022-04-19T13:35:58.860808Z"
    }
   },
   "outputs": [],
   "source": [
    "from marketmaps.mapping import CMDS\n",
    "model = CMDS(n_dims = 2).fit(dist_mat)\n",
    "map_coords = model.Y"
   ]
  },
  {
   "cell_type": "markdown",
   "metadata": {},
   "source": [
    "The resultant model output is a 2D array of shape (n_samples, 2) containing the map coordinates."
   ]
  },
  {
   "cell_type": "code",
   "execution_count": null,
   "metadata": {},
   "outputs": [],
   "source": [
    "map_coords.shape"
   ]
  },
  {
   "cell_type": "markdown",
   "metadata": {
    "ExecuteTime": {
     "end_time": "2022-04-19T13:26:04.581553Z",
     "start_time": "2022-04-19T13:26:04.560608Z"
    }
   },
   "source": [
    "### Step 4: Drawing market maps\n",
    "\n",
    "`marketmaps.mapping` provides intuitive functions (such as ```draw_map()```), which can create highly customizable maps.  "
   ]
  },
  {
   "cell_type": "code",
   "execution_count": null,
   "metadata": {
    "ExecuteTime": {
     "end_time": "2022-04-19T13:36:01.561589Z",
     "start_time": "2022-04-19T13:36:01.110792Z"
    }
   },
   "outputs": [],
   "source": [
    "from marketmaps.printer import draw_map\n",
    "draw_map(Y = map_coords,\n",
    "        c = cluster,\n",
    "        labels = labels,\n",
    "        annotate = 'labels', \n",
    "        fig_size= (7,7),\n",
    "        title_str = \"Classic Scaling of TNIC Data\")"
   ]
  },
  {
   "cell_type": "markdown",
   "metadata": {},
   "source": [
    "### Step 5: Evaluating market maps\n",
    "\n",
    "Further, `marketmaps.metrics` provides typically used metrics to evaluate the resultant maps' goodness-of-fit.  "
   ]
  },
  {
   "cell_type": "code",
   "execution_count": null,
   "metadata": {},
   "outputs": [],
   "source": [
    "from marketmaps.metrics import adjusted_hitrate_score \n",
    "score = adjusted_hitrate_score(dist_mat, map_coords, n_neighbors = 3, input_type= 'distance')\n",
    "\n",
    "print(\"Hitrate of 3-nearest neighbor recovery (adjusted or random agreement): {0:.2f}\".format(score))"
   ]
  },
  {
   "cell_type": "markdown",
   "metadata": {},
   "source": [
    "*** WORK IN PROGRESS: PROPERTY FITTING***"
   ]
  },
  {
   "cell_type": "markdown",
   "metadata": {},
   "source": []
  }
 ],
 "metadata": {
  "kernelspec": {
   "display_name": "Python 3",
   "language": "python",
   "name": "python3"
  },
  "language_info": {
   "codemirror_mode": {
    "name": "ipython",
    "version": 3
   },
   "file_extension": ".py",
   "mimetype": "text/x-python",
   "name": "python",
   "nbconvert_exporter": "python",
   "pygments_lexer": "ipython3",
   "version": "3.9.12"
  },
  "toc": {
   "base_numbering": 1,
   "nav_menu": {},
   "number_sections": true,
   "sideBar": true,
   "skip_h1_title": false,
   "title_cell": "Table of Contents",
   "title_sidebar": "Contents",
   "toc_cell": false,
   "toc_position": {},
   "toc_section_display": true,
   "toc_window_display": false
  },
  "varInspector": {
   "cols": {
    "lenName": 16,
    "lenType": 16,
    "lenVar": 40
   },
   "kernels_config": {
    "python": {
     "delete_cmd_postfix": "",
     "delete_cmd_prefix": "del ",
     "library": "var_list.py",
     "varRefreshCmd": "print(var_dic_list())"
    },
    "r": {
     "delete_cmd_postfix": ") ",
     "delete_cmd_prefix": "rm(",
     "library": "var_list.r",
     "varRefreshCmd": "cat(var_dic_list()) "
    }
   },
   "types_to_exclude": [
    "module",
    "function",
    "builtin_function_or_method",
    "instance",
    "_Feature"
   ],
   "window_display": false
  }
 },
 "nbformat": 4,
 "nbformat_minor": 4
}
