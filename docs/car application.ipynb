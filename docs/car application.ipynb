{
 "cells": [
  {
   "cell_type": "markdown",
   "metadata": {},
   "source": [
    "# Example: Analyzing Car Positioning\n",
    "\n",
    "In this quick demonstration, we use perceptual attribute ratings to \n",
    "uncover competing cars' relative positioning.\n",
    "\n",
    "The data is taken from (with slight modifications) the following book: \n",
    "\n",
    "Lilien, G. L., & Rangaswamy, A. (2004). Marketing engineering: computer-assisted marketing analysis and planning (2nd revised edition). DecisionPro."
   ]
  },
  {
   "cell_type": "markdown",
   "metadata": {},
   "source": [
    "## Loading Example Data\n",
    "\n",
    "The data for this example consist of two files: \n",
    "\n",
    "- 'attributes':  Perceptual attribute ratings for competing cars\n",
    "- 'preferences': Customer preference ratings for these cars\n",
    "\n",
    "Both files are included within the `marketmaps.datasets` module. "
   ]
  },
  {
   "cell_type": "code",
   "execution_count": 13,
   "metadata": {
    "ExecuteTime": {
     "end_time": "2022-04-19T13:35:58.274407Z",
     "start_time": "2022-04-19T13:35:58.072923Z"
    }
   },
   "outputs": [],
   "source": [
    "from marketmaps.datasets import load_car_data\n",
    "data = load_car_data()\n",
    "df_attributes = data['attributes']\n",
    "df_preferences = data['preferences']"
   ]
  },
  {
   "cell_type": "markdown",
   "metadata": {},
   "source": [
    "We start by inspecting the attribute data. These data include attribute ratings for the following 10 competing cars:"
   ]
  },
  {
   "cell_type": "code",
   "execution_count": 19,
   "metadata": {},
   "outputs": [
    {
     "data": {
      "text/plain": [
       "Index(['G20', 'Ford_T_Bird', 'Audi_90', 'Toyota_Supra', 'Eagle_Talon',\n",
       "       'Honda_Prelude', 'Saab_900', 'Pontiac_Firebird', 'BMW_318i',\n",
       "       'Mercury_Capri'],\n",
       "      dtype='object', name='Car')"
      ]
     },
     "execution_count": 19,
     "metadata": {},
     "output_type": "execute_result"
    }
   ],
   "source": [
    "car_labels = df_attributes.index\n",
    "car_labels"
   ]
  },
  {
   "cell_type": "markdown",
   "metadata": {},
   "source": [
    "Each car has been rated along 15 perceptual attributes."
   ]
  },
  {
   "cell_type": "code",
   "execution_count": 15,
   "metadata": {
    "ExecuteTime": {
     "end_time": "2022-04-19T13:35:58.290333Z",
     "start_time": "2022-04-19T13:35:58.277368Z"
    }
   },
   "outputs": [
    {
     "data": {
      "text/plain": [
       "Index(['Attractive', 'Quiet', 'Unreliable', 'Poorly.Built', 'Interesting',\n",
       "       'Sporty', 'Uncomfortable', 'Roomy', 'Easy.to.Service', 'High.Prestige',\n",
       "       'Common', 'Economical', 'Successful', 'Avant.garde', 'Poor.Value'],\n",
       "      dtype='object')"
      ]
     },
     "execution_count": 15,
     "metadata": {},
     "output_type": "execute_result"
    }
   ],
   "source": [
    "df_attributes.columns"
   ]
  },
  {
   "cell_type": "markdown",
   "metadata": {},
   "source": [
    "Each attribute value represents averages of a customer survey:"
   ]
  },
  {
   "cell_type": "code",
   "execution_count": 16,
   "metadata": {},
   "outputs": [
    {
     "data": {
      "text/plain": [
       "Attractive         5.6\n",
       "Quiet              6.3\n",
       "Unreliable         2.9\n",
       "Poorly.Built       1.6\n",
       "Interesting        3.6\n",
       "Sporty             4.1\n",
       "Uncomfortable      3.2\n",
       "Roomy              4.2\n",
       "Easy.to.Service    4.6\n",
       "High.Prestige      5.4\n",
       "Common             3.5\n",
       "Economical         3.6\n",
       "Successful         5.3\n",
       "Avant.garde        4.3\n",
       "Poor.Value         3.4\n",
       "Name: G20, dtype: float64"
      ]
     },
     "execution_count": 16,
     "metadata": {},
     "output_type": "execute_result"
    }
   ],
   "source": [
    "df_attributes.loc['G20']"
   ]
  },
  {
   "cell_type": "markdown",
   "metadata": {},
   "source": [
    "## Derive Car Positioning\n",
    "\n",
    "To project these 15-dimensional vectors for each car onto the two-dimensional plane, we can use classical Multidimensional Scaling (CMDS). \n",
    "CMDS, also known as Principal Coordinates Analysis, takes a matrix of pairwise distances, and creates a low-dimensional configuration of points via Eigendecomposition of the distance matrix. \n",
    "\n",
    "Thus, as a first step, construct a pairwise distance matrix:"
   ]
  },
  {
   "cell_type": "code",
   "execution_count": 17,
   "metadata": {},
   "outputs": [
    {
     "data": {
      "text/plain": [
       "array([[0.  , 5.28, 2.93, 3.48, 5.75, 2.7 , 3.11, 6.08, 2.29, 5.59],\n",
       "       [5.28, 0.  , 4.42, 4.75, 2.28, 4.35, 4.98, 1.82, 5.67, 1.97],\n",
       "       [2.93, 4.42, 0.  , 4.58, 5.25, 3.76, 2.76, 5.39, 3.21, 5.1 ],\n",
       "       [3.48, 4.75, 4.58, 0.  , 5.46, 3.51, 3.95, 4.73, 3.41, 4.91],\n",
       "       [5.75, 2.28, 5.25, 5.46, 0.  , 4.26, 5.35, 3.01, 6.19, 0.99],\n",
       "       [2.7 , 4.35, 3.76, 3.51, 4.26, 0.  , 3.27, 5.12, 3.07, 4.19],\n",
       "       [3.11, 4.98, 2.76, 3.95, 5.35, 3.27, 0.  , 5.9 , 2.69, 5.07],\n",
       "       [6.08, 1.82, 5.39, 4.73, 3.01, 5.12, 5.9 , 0.  , 6.34, 2.49],\n",
       "       [2.29, 5.67, 3.21, 3.41, 6.19, 3.07, 2.69, 6.34, 0.  , 5.85],\n",
       "       [5.59, 1.97, 5.1 , 4.91, 0.99, 4.19, 5.07, 2.49, 5.85, 0.  ]])"
      ]
     },
     "execution_count": 17,
     "metadata": {},
     "output_type": "execute_result"
    }
   ],
   "source": [
    "from marketmaps.preprocessing import calc_distances\n",
    "dist_mat = calc_distances(df_attributes)\n",
    "dist_mat.round(2)"
   ]
  },
  {
   "cell_type": "markdown",
   "metadata": {},
   "source": [
    "Then, apply CMDS to this matrix. Syntax follows the `scikit-learn`:\n",
    "\n",
    "First, you intialize the model. Then, you `fit()` it to data. `fit_transform()` directly returns the resultant output (in this case: a two-dimensional array of map coordinates). "
   ]
  },
  {
   "cell_type": "code",
   "execution_count": 18,
   "metadata": {},
   "outputs": [
    {
     "data": {
      "text/plain": [
       "array([[-2.54,  0.04],\n",
       "       [ 2.43, -0.3 ],\n",
       "       [-1.53, -1.68],\n",
       "       [-1.09,  2.61],\n",
       "       [ 2.9 , -0.79],\n",
       "       [-1.  ,  0.11],\n",
       "       [-2.01, -0.98],\n",
       "       [ 3.1 ,  0.95],\n",
       "       [-2.96,  0.27],\n",
       "       [ 2.71, -0.23]])"
      ]
     },
     "execution_count": 18,
     "metadata": {},
     "output_type": "execute_result"
    }
   ],
   "source": [
    "from marketmaps.mapping import CMDS\n",
    "map_coords = CMDS(n_dims= 2).fit_transform(dist_mat)\n",
    "map_coords.round(2)"
   ]
  },
  {
   "cell_type": "markdown",
   "metadata": {},
   "source": [
    "The resultant coordinates can then be visualized in a 2D map"
   ]
  },
  {
   "cell_type": "code",
   "execution_count": 28,
   "metadata": {},
   "outputs": [
    {
     "data": {
      "image/png": "[encoded data removed]",
      "text/plain": [
       "<Figure size 504x504 with 1 Axes>"
      ]
     },
     "metadata": {
      "needs_background": "light"
     },
     "output_type": "display_data"
    }
   ],
   "source": [
    "from marketmaps.printer import draw_map\n",
    "import numpy as np\n",
    "map = draw_map(\n",
    "    map_coords, \n",
    "    labels = car_labels, \n",
    "    fig_size = (7,7),\n",
    "    annotate = 'labels')"
   ]
  },
  {
   "cell_type": "markdown",
   "metadata": {},
   "source": [
    "## Explain Positioning via Property Fitting\n",
    "\n",
    "The map already reveals which pairs of products compete strongly vs. weakly.\n",
    "A natural next question is: What drives these positions? I.e., how do these map positions relate to the competing cars' perceptual attributes?\n",
    "\n",
    "To answer this question, `marketmaps` allows to fit attributes to the derived map positions (and visualize their relationship via vectors)"
   ]
  },
  {
   "cell_type": "code",
   "execution_count": 6,
   "metadata": {},
   "outputs": [
    {
     "data": {
      "image/png": "[encoded data removed]",
      "text/plain": [
       "<Figure size 504x504 with 1 Axes>"
      ]
     },
     "metadata": {
      "needs_background": "light"
     },
     "output_type": "display_data"
    }
   ],
   "source": [
    "from marketmaps.printer import fit_attributes\n",
    "map = draw_map(\n",
    "    map_coords, \n",
    "    labels = car_labels, \n",
    "    fig_size = (7,7),\n",
    "    scatter_kws= {'s': 30},\n",
    "    annotate = 'labels')\n",
    "\n",
    "map = fit_attributes(map_coords, df_attributes, map)"
   ]
  },
  {
   "cell_type": "markdown",
   "metadata": {},
   "source": [
    "From this map, it becomes apparant what differentiates the competing car brands from one another."
   ]
  }
 ],
 "metadata": {
  "kernelspec": {
   "display_name": "Python 3",
   "language": "python",
   "name": "python3"
  },
  "language_info": {
   "codemirror_mode": {
    "name": "ipython",
    "version": 3
   },
   "file_extension": ".py",
   "mimetype": "text/x-python",
   "name": "python",
   "nbconvert_exporter": "python",
   "pygments_lexer": "ipython3",
   "version": "3.9.12"
  },
  "toc": {
   "base_numbering": 1,
   "nav_menu": {},
   "number_sections": true,
   "sideBar": true,
   "skip_h1_title": false,
   "title_cell": "Table of Contents",
   "title_sidebar": "Contents",
   "toc_cell": false,
   "toc_position": {},
   "toc_section_display": true,
   "toc_window_display": false
  },
  "varInspector": {
   "cols": {
    "lenName": 16,
    "lenType": 16,
    "lenVar": 40
   },
   "kernels_config": {
    "python": {
     "delete_cmd_postfix": "",
     "delete_cmd_prefix": "del ",
     "library": "var_list.py",
     "varRefreshCmd": "print(var_dic_list())"
    },
    "r": {
     "delete_cmd_postfix": ") ",
     "delete_cmd_prefix": "rm(",
     "library": "var_list.r",
     "varRefreshCmd": "cat(var_dic_list()) "
    }
   },
   "types_to_exclude": [
    "module",
    "function",
    "builtin_function_or_method",
    "instance",
    "_Feature"
   ],
   "window_display": false
  }
 },
 "nbformat": 4,
 "nbformat_minor": 4
}
