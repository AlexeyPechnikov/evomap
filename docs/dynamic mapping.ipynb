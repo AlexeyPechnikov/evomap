{
 "cells": [
  {
   "cell_type": "markdown",
   "metadata": {},
   "source": [
    "# Dynamic Mapping via Evomap\n",
    "\n",
    "In many cases, data for creating market maps are retrievable in regular intervals or available historically. In such cases, \n",
    "dynamic mapping can uncover how market actors' positions change over time. \n",
    "\n",
    "Dynamic mapping, however, is more challenging than simply creating a (static) market map at each point in time (see [[1]](#ref_1)).\n",
    "The dynamic mapping framework *EvoMap* provides one solution to this problem. *EvoMap* integrates various static mapping methods \n",
    "and allows the analyst to use them for creating dynamic market maps. Thereby, it provides the analyst with a high degree of control \n",
    "over its output (e.g., by letting the analyst set certain constraints on the resultant maps, such as smoothing). \n",
    "\n",
    "For the methodological background and a detailed description, see the original paper [[1]](#ref_1).\n",
    "\n",
    "This tutorial demonstrates how to use *EvoMap* to create dynamic market maps from time-evolving relationship data. The tutorial covers data preparation, running the method, evaluating its results, tuning its hyperparameter and several useful functions provided as part of this package (e.g., for drawing dynamic market maps).  \n",
    "\n",
    "## Tutorial Sections\n",
    "\n",
    "1. [Data Preparation](#section_1)\n",
    "\n",
    "2. [Running the Method](#section_2)\n",
    "\n",
    "3. [Output Exploration](#section_3)\n",
    "\n",
    "4. [Quantitative Evaluation](#section_4)\n",
    "\n",
    "5. [Hyperparameter Tuning](#section_5)\n",
    "\n",
    "6. [Chosing Different Mapping Methods](#section_6)\n",
    "\n",
    "7. [Special Cases and Extensions](#section_7)\n",
    "\n",
    "## Background on this Tutorial:\n",
    "\n",
    "**Author:** Maximlian Matthe (matthe@wiwi.uni-frankfurt.de)\n",
    "\n",
    "**Last updated:** April 2022\n",
    "\n",
    "*If you use this package or parts of its code, please cite our work!*\n",
    "\n",
    "**References**\n",
    "\n",
    "<a id = \"ref_1\">[1]</a> Matthe, M., Ringel, D. M., Skiera, B. (2022), \"Mapping Market Structure Evolution\", Working Paper.\n",
    "\n",
    "<a id = \"ref_2\">[2]</a> Matthe, M. (2022), \"marketmaps: A Python Package for Exploring Markets in Maps\", Working Paper.\n",
    "\n",
    "<a id = \"ref_3\">[3]</a> Hoberg, G & Phillips, G. (2016), \"Text-Based Network Industries and Endogenous Product Differentiation.\", Journal of Political Economy 124 (5), 1423-1465."
   ]
  },
  {
   "cell_type": "markdown",
   "metadata": {},
   "source": [
    "## A Dynamic Mapping Application \n",
    "\n",
    "### Step 1: Data Preparation\n",
    "<a id = 'section_1'></a>\n",
    "First, load all required imports for this tutorial and set the seed to ensure reproducibility. "
   ]
  },
  {
   "cell_type": "code",
   "execution_count": 1,
   "metadata": {
    "ExecuteTime": {
     "end_time": "2022-04-14T14:38:19.308168Z",
     "start_time": "2022-04-14T14:38:18.011896Z"
    }
   },
   "outputs": [],
   "source": [
    "import pandas as pd\n",
    "import numpy as np\n",
    "from matplotlib import pyplot as plt\n",
    "import seaborn as sns\n",
    "\n",
    "np.random.seed(123) "
   ]
  },
  {
   "cell_type": "markdown",
   "metadata": {},
   "source": [
    "For this tutorial, we use a subsample of the 'Text-Based Network Industry Classification' data also used in [[1]](#ref_1). The original data is provided at https://hobergphillips.tuck.dartmouth.edu/. The data consists of a time-indexed edgelist, that is, firm-firm relationships. \n",
    "\n",
    "For more background on TNIC data, see [[3]](#ref_3). If you intend to use these data, make sure to cite these authors' original work!\n",
    "\n",
    "We augment the TNIC edgelist with further firm information. Moreover, we limit our analysis to a subsample of firms (i.e., those which are present throughout the whole observation period of 20 years). Our augmented data includes the following variables: \n",
    "\n",
    "| Variable | Description | Source |\n",
    "| --- | --- | --- |\n",
    "| year | Fiscal year | TNIC |\n",
    "| gvkey | Firm identifier | TNIC |\n",
    "| score | Similarity score | TNIC |\n",
    "| name | Firm name | Compustat |\n",
    "| mkvalt | Market value | Compustat |\n",
    "| sic | SIC Code | Compustat |\n",
    "\n",
    "In the resultant dataset, each row corresponds to a single firm-firm pair at a specific point in time. Thus, each firm variable appears twice in each row (once for each firm). We provide this dataset in the `marketmaps.datasets` module."
   ]
  },
  {
   "cell_type": "code",
   "execution_count": 2,
   "metadata": {
    "ExecuteTime": {
     "end_time": "2022-04-14T14:38:21.012637Z",
     "start_time": "2022-04-14T14:38:19.310169Z"
    }
   },
   "outputs": [
    {
     "data": {
      "text/html": [
       "<div>\n",
       "<style scoped>\n",
       "    .dataframe tbody tr th:only-of-type {\n",
       "        vertical-align: middle;\n",
       "    }\n",
       "\n",
       "    .dataframe tbody tr th {\n",
       "        vertical-align: top;\n",
       "    }\n",
       "\n",
       "    .dataframe thead th {\n",
       "        text-align: right;\n",
       "    }\n",
       "</style>\n",
       "<table border=\"1\" class=\"dataframe\">\n",
       "  <thead>\n",
       "    <tr style=\"text-align: right;\">\n",
       "      <th></th>\n",
       "      <th>year</th>\n",
       "      <th>gvkey1</th>\n",
       "      <th>gvkey2</th>\n",
       "      <th>score</th>\n",
       "      <th>name1</th>\n",
       "      <th>name2</th>\n",
       "      <th>mkvalt1</th>\n",
       "      <th>sic1</th>\n",
       "      <th>mkvalt2</th>\n",
       "      <th>sic2</th>\n",
       "    </tr>\n",
       "  </thead>\n",
       "  <tbody>\n",
       "    <tr>\n",
       "      <th>0</th>\n",
       "      <td>1998</td>\n",
       "      <td>1078</td>\n",
       "      <td>1602</td>\n",
       "      <td>0.0274</td>\n",
       "      <td>ABBOTT LABORATORIES</td>\n",
       "      <td>AMGEN INC</td>\n",
       "      <td>74287.087000</td>\n",
       "      <td>3845.0</td>\n",
       "      <td>26621.61250</td>\n",
       "      <td>2836.0</td>\n",
       "    </tr>\n",
       "    <tr>\n",
       "      <th>1</th>\n",
       "      <td>1999</td>\n",
       "      <td>1078</td>\n",
       "      <td>1602</td>\n",
       "      <td>0.0352</td>\n",
       "      <td>ABBOTT LABORATORIES</td>\n",
       "      <td>AMGEN INC</td>\n",
       "      <td>56176.163750</td>\n",
       "      <td>3845.0</td>\n",
       "      <td>61137.61875</td>\n",
       "      <td>2836.0</td>\n",
       "    </tr>\n",
       "    <tr>\n",
       "      <th>2</th>\n",
       "      <td>2000</td>\n",
       "      <td>1078</td>\n",
       "      <td>1602</td>\n",
       "      <td>0.0348</td>\n",
       "      <td>ABBOTT LABORATORIES</td>\n",
       "      <td>AMGEN INC</td>\n",
       "      <td>74881.178125</td>\n",
       "      <td>3845.0</td>\n",
       "      <td>66328.76250</td>\n",
       "      <td>2836.0</td>\n",
       "    </tr>\n",
       "    <tr>\n",
       "      <th>3</th>\n",
       "      <td>2001</td>\n",
       "      <td>1078</td>\n",
       "      <td>1602</td>\n",
       "      <td>0.0218</td>\n",
       "      <td>ABBOTT LABORATORIES</td>\n",
       "      <td>AMGEN INC</td>\n",
       "      <td>86665.047500</td>\n",
       "      <td>3845.0</td>\n",
       "      <td>59024.95200</td>\n",
       "      <td>2836.0</td>\n",
       "    </tr>\n",
       "    <tr>\n",
       "      <th>4</th>\n",
       "      <td>2002</td>\n",
       "      <td>1078</td>\n",
       "      <td>1602</td>\n",
       "      <td>0.0366</td>\n",
       "      <td>ABBOTT LABORATORIES</td>\n",
       "      <td>AMGEN INC</td>\n",
       "      <td>62522.720000</td>\n",
       "      <td>3845.0</td>\n",
       "      <td>62315.09400</td>\n",
       "      <td>2836.0</td>\n",
       "    </tr>\n",
       "  </tbody>\n",
       "</table>\n",
       "</div>"
      ],
      "text/plain": [
       "   year  gvkey1  gvkey2   score  ...       mkvalt1    sic1      mkvalt2    sic2\n",
       "0  1998    1078    1602  0.0274  ...  74287.087000  3845.0  26621.61250  2836.0\n",
       "1  1999    1078    1602  0.0352  ...  56176.163750  3845.0  61137.61875  2836.0\n",
       "2  2000    1078    1602  0.0348  ...  74881.178125  3845.0  66328.76250  2836.0\n",
       "3  2001    1078    1602  0.0218  ...  86665.047500  3845.0  59024.95200  2836.0\n",
       "4  2002    1078    1602  0.0366  ...  62522.720000  3845.0  62315.09400  2836.0\n",
       "\n",
       "[5 rows x 10 columns]"
      ]
     },
     "execution_count": 2,
     "metadata": {},
     "output_type": "execute_result"
    }
   ],
   "source": [
    "from marketmaps.datasets import load_tnic_sample_small\n",
    "df_sample = load_tnic_sample_small()\n",
    "df_sample.head()"
   ]
  },
  {
   "cell_type": "markdown",
   "metadata": {},
   "source": [
    "The original sample includes more than 1,000 different firms. To simplify our demonstration (and accelerate the runtime of this notebook), we pick a smaller subsample from these data focused on the biggest firms (by market value) and their competitors. For details on how we generated this subsample, see <a href = 'TNIC subsample construction.ipynb'>here</a>."
   ]
  },
  {
   "cell_type": "code",
   "execution_count": 3,
   "metadata": {
    "ExecuteTime": {
     "end_time": "2022-04-14T14:38:28.728003Z",
     "start_time": "2022-04-14T14:38:28.698928Z"
    }
   },
   "outputs": [
    {
     "name": "stdout",
     "output_type": "stream",
     "text": [
      "The subsample includes 275 firms and 20 years\n"
     ]
    }
   ],
   "source": [
    "print(\"The subsample includes {0} firms and {1} years\".format(df_sample.name1.nunique(), df_sample.year.nunique()))"
   ]
  },
  {
   "cell_type": "markdown",
   "metadata": {},
   "source": [
    "We need to turn this edgelist into a sequence of relationship matrices. Specifically, the expected input for *EvoMap* is a list of numpy ndarrays, each containing the pairwise relationships among all firms at a specific point in time. \n",
    "\n",
    "**Important:** Make sure that each matrix has the same size and that its rows & columns are ordered consistently! If you do not observe certain firms at some points in time (e.g., due to entry or exit), you should provide inclusion vectors (covered [later](#inclusions)).\n",
    "\n",
    "`marketmaps.preprocessing` provides helpful functions for the required transformations: "
   ]
  },
  {
   "cell_type": "code",
   "execution_count": 4,
   "metadata": {
    "ExecuteTime": {
     "end_time": "2022-04-14T14:38:29.687607Z",
     "start_time": "2022-04-14T14:38:28.729967Z"
    }
   },
   "outputs": [],
   "source": [
    "from marketmaps.preprocessing import edgelist2matrix, sim2dist\n",
    "\n",
    "def build_distance_matrices(df):\n",
    "    \"\"\"Build a sequence of distance matrices from the tnic edgelist.\n",
    "\n",
    "    As the tnic data consists of pairwise similarities, we apply the 'sim2dist' \n",
    "    function to each similarity matrix to yield distance matrices.\n",
    "\n",
    "    Parameters\n",
    "    ----------\n",
    "    df : pd.DataFrame\n",
    "        Tnic data in edgelist format. \n",
    "\n",
    "    Returns\n",
    "    -------\n",
    "    Ds, names, years\n",
    "        Ds: list of distance matrices, each as a numpy ndarray\n",
    "        names: array of firm labels\n",
    "        years: array o year labels\n",
    "    \"\"\"\n",
    "    years = df['year'].sort_values().unique()\n",
    "    Ds = []\n",
    "    for year in years:\n",
    "        S_t, names = edgelist2matrix(\n",
    "            df = df,\n",
    "            score_var = 'score',\n",
    "            id_var_i = 'name1',\n",
    "            id_var_j = 'name2',\n",
    "            time_var = 'year',\n",
    "            time_selected = year)\n",
    "        D_t = sim2dist(S_t)\n",
    "        Ds.append(D_t)\n",
    "                \n",
    "    return Ds, names, years\n",
    "\n",
    "Ds, names, years = build_distance_matrices(df_sample)\n",
    "n_samples = Ds[0].shape[0]\n",
    "n_periods = len(Ds)"
   ]
  },
  {
   "cell_type": "markdown",
   "metadata": {},
   "source": [
    "### Step 2: Running EvoMap\n",
    "<a id = 'section_2'></a>"
   ]
  },
  {
   "cell_type": "markdown",
   "metadata": {},
   "source": [
    "EvoMap is part of the `marketmaps.mapping` module. \n",
    "\n",
    "Before we run the model, we first fix a random starting initialization. While one does not need to provide a starting initialization explicitly, doing so is helpful when comparing the derived maps to solutions by other approaches. "
   ]
  },
  {
   "cell_type": "code",
   "execution_count": 5,
   "metadata": {
    "ExecuteTime": {
     "end_time": "2022-04-14T14:38:29.703244Z",
     "start_time": "2022-04-14T14:38:29.690239Z"
    }
   },
   "outputs": [],
   "source": [
    "Y_init = np.random.normal(0.0,1.0,size=(n_samples,2))\n",
    "Y_inits = [Y_init]*n_periods"
   ]
  },
  {
   "cell_type": "markdown",
   "metadata": {},
   "source": [
    "Then, choose a value for the hyperparamter alpha, initialize the model accordingly, and fit it to the data. We will cover ways how to identify appropriate values for EvoMap's hyperparameters [later](#section_5)"
   ]
  },
  {
   "cell_type": "code",
   "execution_count": 6,
   "metadata": {
    "ExecuteTime": {
     "end_time": "2022-04-14T14:40:44.970713Z",
     "start_time": "2022-04-14T14:38:29.705210Z"
    }
   },
   "outputs": [
    {
     "name": "stdout",
     "output_type": "stream",
     "text": [
      "[EvoTSNE] -- Fitting EvoMap via TSNE -- \n",
      "[EvoTSNE] Calculating P matrices of t-SNE...\n",
      "[EvoTSNE] Iteration 1 -- Cost: 350.20 -- Static: 350.20 -- Temp.: 0.00\n",
      "[EvoTSNE] Iteration 250 -- Cost: 228.28 -- Static: 227.71 -- Temp.: 569.10\n",
      "[EvoTSNE] Iteration 500 -- Cost: 17.24 -- Static: 16.45 -- Temp.: 793.57\n"
     ]
    },
    {
     "ename": "KeyboardInterrupt",
     "evalue": "",
     "output_type": "error",
     "traceback": [
      "\u001b[1;31m---------------------------------------------------------------------------\u001b[0m",
      "\u001b[1;31mKeyboardInterrupt\u001b[0m                         Traceback (most recent call last)",
      "\u001b[1;32mc:\\Users\\MPMATTHE\\Dropbox\\Promotion\\DFG - Advancing Market Structure\\EvoMap Python Package\\marketmaps\\docs\\dynamic mapping.ipynb Cell 14'\u001b[0m in \u001b[0;36m<cell line: 7>\u001b[1;34m()\u001b[0m\n\u001b[0;32m      <a href='vscode-notebook-cell:/c%3A/Users/MPMATTHE/Dropbox/Promotion/DFG%20-%20Advancing%20Market%20Structure/EvoMap%20Python%20Package/marketmaps/docs/dynamic%20mapping.ipynb#ch0000013?line=0'>1</a>\u001b[0m \u001b[39mfrom\u001b[39;00m \u001b[39mmarketmaps\u001b[39;00m\u001b[39m.\u001b[39;00m\u001b[39mmapping\u001b[39;00m \u001b[39mimport\u001b[39;00m EvoTSNE\n\u001b[0;32m      <a href='vscode-notebook-cell:/c%3A/Users/MPMATTHE/Dropbox/Promotion/DFG%20-%20Advancing%20Market%20Structure/EvoMap%20Python%20Package/marketmaps/docs/dynamic%20mapping.ipynb#ch0000013?line=1'>2</a>\u001b[0m model \u001b[39m=\u001b[39m EvoTSNE(\n\u001b[0;32m      <a href='vscode-notebook-cell:/c%3A/Users/MPMATTHE/Dropbox/Promotion/DFG%20-%20Advancing%20Market%20Structure/EvoMap%20Python%20Package/marketmaps/docs/dynamic%20mapping.ipynb#ch0000013?line=2'>3</a>\u001b[0m     init \u001b[39m=\u001b[39m Y_inits,\n\u001b[0;32m      <a href='vscode-notebook-cell:/c%3A/Users/MPMATTHE/Dropbox/Promotion/DFG%20-%20Advancing%20Market%20Structure/EvoMap%20Python%20Package/marketmaps/docs/dynamic%20mapping.ipynb#ch0000013?line=3'>4</a>\u001b[0m     verbose \u001b[39m=\u001b[39m \u001b[39m2\u001b[39m,\n\u001b[0;32m      <a href='vscode-notebook-cell:/c%3A/Users/MPMATTHE/Dropbox/Promotion/DFG%20-%20Advancing%20Market%20Structure/EvoMap%20Python%20Package/marketmaps/docs/dynamic%20mapping.ipynb#ch0000013?line=4'>5</a>\u001b[0m     alpha \u001b[39m=\u001b[39m \u001b[39m0.001\u001b[39m)\n\u001b[1;32m----> <a href='vscode-notebook-cell:/c%3A/Users/MPMATTHE/Dropbox/Promotion/DFG%20-%20Advancing%20Market%20Structure/EvoMap%20Python%20Package/marketmaps/docs/dynamic%20mapping.ipynb#ch0000013?line=6'>7</a>\u001b[0m Ys \u001b[39m=\u001b[39m model\u001b[39m.\u001b[39;49mfit_transform(Ds)\n",
      "File \u001b[1;32mc:\\users\\mpmatthe\\dropbox\\promotion\\dfg - advancing market structure\\evomap python package\\marketmaps\\src\\marketmaps\\mapping\\evomap\\_evotsne.py:240\u001b[0m, in \u001b[0;36mEvoTSNE.fit_transform\u001b[1;34m(self, Xs, inclusions)\u001b[0m\n\u001b[0;32m    <a href='file:///c%3A/users/mpmatthe/dropbox/promotion/dfg%20-%20advancing%20market%20structure/evomap%20python%20package/marketmaps/src/marketmaps/mapping/evomap/_evotsne.py?line=237'>238</a>\u001b[0m \u001b[39mfor\u001b[39;00m ith_try \u001b[39min\u001b[39;00m \u001b[39mrange\u001b[39m(\u001b[39mself\u001b[39m\u001b[39m.\u001b[39mmax_tries):\n\u001b[0;32m    <a href='file:///c%3A/users/mpmatthe/dropbox/promotion/dfg%20-%20advancing%20market%20structure/evomap%20python%20package/marketmaps/src/marketmaps/mapping/evomap/_evotsne.py?line=238'>239</a>\u001b[0m     \u001b[39mtry\u001b[39;00m: \n\u001b[1;32m--> <a href='file:///c%3A/users/mpmatthe/dropbox/promotion/dfg%20-%20advancing%20market%20structure/evomap%20python%20package/marketmaps/src/marketmaps/mapping/evomap/_evotsne.py?line=239'>240</a>\u001b[0m         final_positions, cost_total, cost_static, cost_temporal, Ws \u001b[39m=\u001b[39m \u001b[39mself\u001b[39;49m\u001b[39m.\u001b[39;49mgrad_descent_evo_tsne(Ps, Ws, Y_inits, inclusion_array)\n\u001b[0;32m    <a href='file:///c%3A/users/mpmatthe/dropbox/promotion/dfg%20-%20advancing%20market%20structure/evomap%20python%20package/marketmaps/src/marketmaps/mapping/evomap/_evotsne.py?line=240'>241</a>\u001b[0m         \u001b[39mbreak\u001b[39;00m\n\u001b[0;32m    <a href='file:///c%3A/users/mpmatthe/dropbox/promotion/dfg%20-%20advancing%20market%20structure/evomap%20python%20package/marketmaps/src/marketmaps/mapping/evomap/_evotsne.py?line=241'>242</a>\u001b[0m     \u001b[39mexcept\u001b[39;00m DivergingGradientError:\n",
      "File \u001b[1;32mc:\\users\\mpmatthe\\dropbox\\promotion\\dfg - advancing market structure\\evomap python package\\marketmaps\\src\\marketmaps\\mapping\\evomap\\_evotsne.py:315\u001b[0m, in \u001b[0;36mEvoTSNE.grad_descent_evo_tsne\u001b[1;34m(self, Ps, Ws, Y_inits, inclusions)\u001b[0m\n\u001b[0;32m    <a href='file:///c%3A/users/mpmatthe/dropbox/promotion/dfg%20-%20advancing%20market%20structure/evomap%20python%20package/marketmaps/src/marketmaps/mapping/evomap/_evotsne.py?line=311'>312</a>\u001b[0m dY_t_static \u001b[39m=\u001b[39m calc_gradient(Y_t, Ps[t], Q_t, dist_t)\n\u001b[0;32m    <a href='file:///c%3A/users/mpmatthe/dropbox/promotion/dfg%20-%20advancing%20market%20structure/evomap%20python%20package/marketmaps/src/marketmaps/mapping/evomap/_evotsne.py?line=313'>314</a>\u001b[0m \u001b[39m# Calculate full gradient (pointing uphill)\u001b[39;00m\n\u001b[1;32m--> <a href='file:///c%3A/users/mpmatthe/dropbox/promotion/dfg%20-%20advancing%20market%20structure/evomap%20python%20package/marketmaps/src/marketmaps/mapping/evomap/_evotsne.py?line=314'>315</a>\u001b[0m dYs[:, (n_dims\u001b[39m*\u001b[39mt):(n_dims\u001b[39m*\u001b[39mt)\u001b[39m+\u001b[39mn_dims] \u001b[39m=\u001b[39m dY_t_static \u001b[39m+\u001b[39m (alpha \u001b[39m*\u001b[39m dY_temporals[t])\n\u001b[0;32m    <a href='file:///c%3A/users/mpmatthe/dropbox/promotion/dfg%20-%20advancing%20market%20structure/evomap%20python%20package/marketmaps/src/marketmaps/mapping/evomap/_evotsne.py?line=316'>317</a>\u001b[0m \u001b[39m# Calculate momentum gains (based on original TSNE implementation)\u001b[39;00m\n\u001b[0;32m    <a href='file:///c%3A/users/mpmatthe/dropbox/promotion/dfg%20-%20advancing%20market%20structure/evomap%20python%20package/marketmaps/src/marketmaps/mapping/evomap/_evotsne.py?line=317'>318</a>\u001b[0m iY_t \u001b[39m=\u001b[39m iYs[:, (n_dims\u001b[39m*\u001b[39mt):(n_dims\u001b[39m*\u001b[39mt)\u001b[39m+\u001b[39mn_dims]\n",
      "\u001b[1;31mKeyboardInterrupt\u001b[0m: "
     ]
    }
   ],
   "source": [
    "from marketmaps.mapping import EvoTSNE\n",
    "model = EvoTSNE(\n",
    "    init = Y_inits,\n",
    "    verbose = 2,\n",
    "    alpha = 0.001)\n",
    "\n",
    "Ys = model.fit_transform(Ds)"
   ]
  },
  {
   "cell_type": "markdown",
   "metadata": {},
   "source": [
    "The output is a list of map coordinates, each stored in a ndarray of shape (n_samples, d), where d is typically = 2. \n",
    "\n",
    "This package provides multiple tools to explore these results. Here, we look at the first 4 maps as a sequence. We cover more advanced alternatives for exploration in [Section 3: Exploring Model Output](#section_3)."
   ]
  },
  {
   "cell_type": "code",
   "execution_count": null,
   "metadata": {
    "ExecuteTime": {
     "end_time": "2022-04-14T14:40:45.342829Z",
     "start_time": "2022-04-14T14:40:44.972714Z"
    }
   },
   "outputs": [
    {
     "data": {
      "image/png": "[encoded data removed]",
      "text/plain": [
       "<Figure size 1152x288 with 4 Axes>"
      ]
     },
     "metadata": {
      "needs_background": "light"
     },
     "output_type": "display_data"
    }
   ],
   "source": [
    "from marketmaps.printer import draw_map_sequence\n",
    "draw_map_sequence(Ys[:4])"
   ]
  },
  {
   "cell_type": "markdown",
   "metadata": {},
   "source": [
    "<a id = 'section_3'></a>\n",
    "## Exploring Model Output"
   ]
  },
  {
   "cell_type": "markdown",
   "metadata": {},
   "source": [
    "This package provides three ways to explore EvoMap's output: \n",
    "\n",
    "1. [Draw a static map](#static_map)\n",
    "2. [Draw a sequence of static maps](#sequence)\n",
    "3. [Draw a dynamic map](#dynamic_map) (i.e., an overlay of subsequent maps)\n",
    "\n",
    "All necessary functions are included in the \"printer\" module and provide lots of flexibility to adjust their aesthetics."
   ]
  },
  {
   "cell_type": "markdown",
   "metadata": {},
   "source": [
    "<a id = 'static_map'></a>\n",
    "### Draw a Static Map\n",
    "\n",
    "To draw a single static map, simply use the corresponding function ```draw_map()```."
   ]
  },
  {
   "cell_type": "code",
   "execution_count": null,
   "metadata": {
    "ExecuteTime": {
     "end_time": "2022-04-14T14:40:45.452791Z",
     "start_time": "2022-04-14T14:40:45.344825Z"
    }
   },
   "outputs": [],
   "source": [
    "from evomap.printer import draw_map\n",
    "\n",
    "draw_map(Y_ts[0])"
   ]
  },
  {
   "cell_type": "markdown",
   "metadata": {},
   "source": [
    "Aesthetics of the map can easily be adjusted via additional arguments. For instance, if class labels are available (e.g., obtained via clustering or additional metadata), they can be added as colors. Here, we can use SIC codes for coloring:"
   ]
  },
  {
   "cell_type": "code",
   "execution_count": null,
   "metadata": {
    "ExecuteTime": {
     "end_time": "2022-04-14T14:40:45.622383Z",
     "start_time": "2022-04-14T14:40:45.456680Z"
    }
   },
   "outputs": [],
   "source": [
    "sic_codes = pd.DataFrame({'name1' : names}).merge(df_sample[['name1', 'sic1']], on = 'name1', how = 'left').drop_duplicates('name1')['sic1'].map(lambda x: str(x)[:1]).values\n",
    "draw_map(Y_ts[0], c = sic_codes)\n"
   ]
  },
  {
   "cell_type": "markdown",
   "metadata": {},
   "source": [
    "One can further annotate the map, using clusters"
   ]
  },
  {
   "cell_type": "code",
   "execution_count": null,
   "metadata": {
    "ExecuteTime": {
     "end_time": "2022-04-14T14:40:45.777016Z",
     "start_time": "2022-04-14T14:40:45.624376Z"
    }
   },
   "outputs": [],
   "source": [
    "draw_map(Y_ts[0], c = sic_codes, annotate = 'clusters')"
   ]
  },
  {
   "cell_type": "markdown",
   "metadata": {},
   "source": [
    "or labels. Note that one can also use additional keyword arguments to adjust the plot and its labels further. "
   ]
  },
  {
   "cell_type": "code",
   "execution_count": null,
   "metadata": {
    "ExecuteTime": {
     "end_time": "2022-04-14T14:40:47.290832Z",
     "start_time": "2022-04-14T14:40:45.780009Z"
    }
   },
   "outputs": [],
   "source": [
    "draw_map(\n",
    "    Y_ts[0], \n",
    "    c = sic_codes, \n",
    "    annotate = 'labels', \n",
    "    labels = names, \n",
    "    highlight_labels = ['APPLE INC', 'ADOBE INC'],\n",
    "    fig_size = (10,10),\n",
    "    fontdict = {'size': 8},\n",
    "    scatter_kws = {'s' : 20})"
   ]
  },
  {
   "cell_type": "markdown",
   "metadata": {},
   "source": [
    "<a id = 'sequence'></a>\n",
    "### Draw a Sequence of Maps\n",
    "\n",
    "Rather than drawing a single map, one can also draw a sequence via ```draw_map_sequence()```.\n",
    "\n",
    "The function takes a list of ndarrays (each containing the map coordinates for one period) and creates a map for each of them:"
   ]
  },
  {
   "cell_type": "code",
   "execution_count": null,
   "metadata": {
    "ExecuteTime": {
     "end_time": "2022-04-14T14:40:47.603508Z",
     "start_time": "2022-04-14T14:40:47.292803Z"
    }
   },
   "outputs": [],
   "source": [
    "from evomap.printer import draw_map_sequence\n",
    "draw_map_sequence(Y_ts[:4], n_cols = 4, time_labels = years)"
   ]
  },
  {
   "cell_type": "markdown",
   "metadata": {},
   "source": [
    "Map aesthetics can be adjusted analogously to drawing a static map. To do so, simply provide arguments of ```draw_map()``` as keyword arguments to ```draw_map_sequence()```:"
   ]
  },
  {
   "cell_type": "code",
   "execution_count": null,
   "metadata": {
    "ExecuteTime": {
     "end_time": "2022-04-14T14:40:48.039619Z",
     "start_time": "2022-04-14T14:40:47.605493Z"
    }
   },
   "outputs": [],
   "source": [
    "draw_map_sequence(Y_ts[:4], time_labels = years, \n",
    "                  c = sic_codes, labels = names, highlight_labels = ['APPLE INC', 'INTUIT INC'])"
   ]
  },
  {
   "cell_type": "markdown",
   "metadata": {},
   "source": [
    "<a id = 'dynamic_map'></a>\n",
    "### Draw a Dynamic Map\n",
    "\n",
    "The third option - and often the most interesting one - is to explore all periods jointly via a *dynamic map* (i.e., an overlay of multiple subsequent maps). To do so, use ```draw_dynamic_map()``` as follows:"
   ]
  },
  {
   "cell_type": "code",
   "execution_count": null,
   "metadata": {
    "ExecuteTime": {
     "end_time": "2022-04-14T14:40:48.449491Z",
     "start_time": "2022-04-14T14:40:48.041582Z"
    }
   },
   "outputs": [],
   "source": [
    "from evomap.printer import draw_dynamic_map\n",
    "\n",
    "draw_dynamic_map(Y_ts)"
   ]
  },
  {
   "cell_type": "markdown",
   "metadata": {},
   "source": [
    "```draw_dynamic_map()``` also provides some options to reveal the individual trajectories of each firm:"
   ]
  },
  {
   "cell_type": "code",
   "execution_count": null,
   "metadata": {
    "ExecuteTime": {
     "end_time": "2022-04-14T14:40:49.214264Z",
     "start_time": "2022-04-14T14:40:48.451484Z"
    }
   },
   "outputs": [],
   "source": [
    "draw_dynamic_map(Y_ts, show_arrows = True, show_last_positions_only = False, \n",
    "                 labels = names, highlight_trajectories = ['APPLE INC', 'AT&T INC'])"
   ]
  },
  {
   "cell_type": "markdown",
   "metadata": {},
   "source": [
    "As the last example shows, all arguments for ```draw_map()``` can also be passed to ```draw_dynamic_map()``` as keyword arguments to control the resultant map's aesthetics. Naturally, the arguments of both functions can also be combined arbitrarily (for instance, highlighting labels for same objects, while highlighting the trajectories of others): "
   ]
  },
  {
   "cell_type": "code",
   "execution_count": null,
   "metadata": {
    "ExecuteTime": {
     "end_time": "2022-04-14T14:40:49.388891Z",
     "start_time": "2022-04-14T14:40:49.217156Z"
    }
   },
   "outputs": [],
   "source": [
    "draw_dynamic_map(Y_ts, show_arrows = True, show_last_positions_only= True, highlight_trajectories = ['WALMART INC', 'AT&T INC'],\n",
    "                 labels = names, highlight_labels = ['PFIZER INC', 'MORGAN STANLEY'])"
   ]
  },
  {
   "cell_type": "markdown",
   "metadata": {},
   "source": [
    "Besides drawing the full map, one can also focus on individual firms and their trajectories. To do so, the dedicated function \n",
    "\n",
    "```draw_trajectories()``` \n",
    "\n",
    "is available. \n",
    "\n",
    "Besides map coordinates and labels (e.g., firm names), this function expects you to provide a list (or array) of focus firms, for which the trajectories should be displayed:"
   ]
  },
  {
   "cell_type": "code",
   "execution_count": null,
   "metadata": {
    "ExecuteTime": {
     "end_time": "2022-04-14T14:40:49.891076Z",
     "start_time": "2022-04-14T14:40:49.390858Z"
    }
   },
   "outputs": [],
   "source": [
    "from marketmaps.printer import draw_trajectories\n",
    "focus_firms = [\n",
    "    'AT&T INC', \n",
    "    'APPLE INC']    \n",
    "draw_trajectories(Ys, labels = names, selected_labels = focus_firms)"
   ]
  },
  {
   "cell_type": "markdown",
   "metadata": {},
   "source": [
    "To ease interpretation, annotations for all periods can be added explicitly:"
   ]
  },
  {
   "cell_type": "code",
   "execution_count": null,
   "metadata": {
    "ExecuteTime": {
     "end_time": "2022-04-14T14:40:50.365709Z",
     "start_time": "2022-04-14T14:40:49.892614Z"
    }
   },
   "outputs": [],
   "source": [
    "draw_trajectories(Ys, labels = names, selected_labels = focus_firms, title_str = \"Selected Trajectories\", period_labels = years)"
   ]
  },
  {
   "cell_type": "markdown",
   "metadata": {},
   "source": [
    "<a id = 'section_4'></a>\n",
    "## Evaluating Model Output\n",
    "\n",
    "How \"good\" are these maps (e.g., how well do they fit the input data? How well do they reveal underyling changes?)? \n",
    "\n",
    "To answer this question, the following metrics are available. All functions are located within the 'metrics' module.\n",
    "\n",
    "\n",
    "| Metric | Description | Function | Computed for | \n",
    "| --- | --- | --- | --- |\n",
    "| Hitrate | Nearest neighbor recovery (in %) | ```hitrate_score()``` | Single Map| \n",
    "| Adjusted Hitrate | Hitrate, adjusted for random agreement | ```adjusted_hitrate_score()``` | Single Map |\n",
    "| Avg. Hitrate | Avgerage Hitrate | ```avg_adjusted_hitrate_score()``` | Sequence of Maps |\n",
    "| Avg. Adjusted Hitrate | Adjusted Hitrate, averaged across subsequent maps | ```avg_adjusted_hitrate_score()``` | Sequence of Maps |\n",
    "| Misalignment | Average Distance of subsequent map positions  | ```misalign_score()```  | Sequence of Maps |\n",
    "| Alignment | Cosine similarity of subsequent map positions | ```align_score()``` | Sequence of Maps |\n",
    "| Persistence | Autocorrelation coeff. of first differences <br> of objects' subsequent map positions | ```persistence_score()``` | Sequence of Maps |\n",
    "\n"
   ]
  },
  {
   "cell_type": "code",
   "execution_count": null,
   "metadata": {
    "ExecuteTime": {
     "end_time": "2022-04-14T14:40:50.381703Z",
     "start_time": "2022-04-14T14:40:50.367709Z"
    }
   },
   "outputs": [],
   "source": [
    "from evomap.metrics import avg_hitrate_score, misalign_score, persistence_score"
   ]
  },
  {
   "cell_type": "code",
   "execution_count": null,
   "metadata": {
    "ExecuteTime": {
     "end_time": "2022-04-14T14:40:51.477736Z",
     "start_time": "2022-04-14T14:40:50.383667Z"
    }
   },
   "outputs": [],
   "source": [
    "df_eval = pd.DataFrame({\n",
    "    'Avg Hitrate': avg_hitrate_score(D_ts, Y_ts, input_type = 'distance'),\n",
    "    'Misalignment': misalign_score(Y_ts),\n",
    "    'Persistence': persistence_score(Y_ts)\n",
    "}, index = ['EvoMap'])\n",
    "\n",
    "df_eval"
   ]
  },
  {
   "cell_type": "markdown",
   "metadata": {},
   "source": [
    "To benchmark these values, we apply t-SNE independently to each distance matrix."
   ]
  },
  {
   "cell_type": "code",
   "execution_count": null,
   "metadata": {
    "ExecuteTime": {
     "end_time": "2022-04-14T14:42:57.718244Z",
     "start_time": "2022-04-14T14:40:51.479734Z"
    }
   },
   "outputs": [],
   "source": [
    "from sklearn.manifold import TSNE\n",
    "\n",
    "Y_ts_indep = []\n",
    "tsne_model = TSNE(\n",
    "    n_components= 2, \n",
    "    perplexity = 25,\n",
    "    init = Y_init,\n",
    "    verbose = 0,\n",
    "    learning_rate = 'auto',\n",
    "    n_iter = 2000,\n",
    "    method = 'exact',\n",
    "    square_distances = True, # set to true to silence FutureWarning\n",
    "    metric= 'precomputed')\n",
    "\n",
    "for t in range(n_periods):\n",
    "    tsne_results = tsne_model.fit_transform(D_ts[t])\n",
    "    Y_ts_indep.append(tsne_results)"
   ]
  },
  {
   "cell_type": "code",
   "execution_count": null,
   "metadata": {
    "ExecuteTime": {
     "end_time": "2022-04-14T14:42:58.896583Z",
     "start_time": "2022-04-14T14:42:57.720239Z"
    }
   },
   "outputs": [],
   "source": [
    "df_eval = pd.concat((df_eval, pd.DataFrame({\n",
    "    'Avg Hitrate': avg_hitrate_score(D_ts, Y_ts_indep, input_type = 'distance'),\n",
    "    'Misalignment': misalign_score(Y_ts_indep),\n",
    "    'Persistence': persistence_score(Y_ts_indep)\n",
    "}, index = ['Indep. TSNE'])), axis = 0)\n",
    "df_eval"
   ]
  },
  {
   "cell_type": "code",
   "execution_count": null,
   "metadata": {
    "ExecuteTime": {
     "end_time": "2022-04-14T14:42:59.085456Z",
     "start_time": "2022-04-14T14:42:58.898552Z"
    }
   },
   "outputs": [],
   "source": [
    "df_eval.T.plot(kind = 'bar')"
   ]
  },
  {
   "cell_type": "markdown",
   "metadata": {},
   "source": [
    "<a id = 'section_5'></a>\n",
    "## Hyperparameter Selection: \n",
    "\n",
    "The metrics introduced in the last section are well suited to tune EvoMap's hyperparameters. \n",
    "\n",
    "Specifically, there are two hyperparameters one needs to set when applying EvoMap: \n",
    "\n",
    "- alpha (float): Controls the degree of alignment \n",
    "- p (int): Controls the degree of smoothing\n",
    "\n",
    "'Good' values for these parameters naturally depend on the given input data, one should always test multiple values for them and compare their results visually and quantitatively (e.g., using the metrics introduced in the previous section). \n",
    "\n",
    "To make such comparisons as easy as possible, EvoMap features a  ```grid_search()``` function. Given some input data and a grid of parameter values, this function creates a map sequence for each parameter combination and summarizes the results. \n",
    "\n",
    "First, define the parameter grid as a dictionary. For a start, its always good to define a broad range (which can later be narrowed down more closely): "
   ]
  },
  {
   "cell_type": "code",
   "execution_count": null,
   "metadata": {
    "ExecuteTime": {
     "end_time": "2022-04-14T14:42:59.101459Z",
     "start_time": "2022-04-14T14:42:59.087456Z"
    }
   },
   "outputs": [],
   "source": [
    "param_grid = {\n",
    "    'alpha': [0.00000001, 0.000001, 0.00001, 0.00001, 0.0001, 0.001, 0.01, 0.1, 0.5], \n",
    "    'p': [1,2,3]}"
   ]
  },
  {
   "cell_type": "markdown",
   "metadata": {},
   "source": [
    "Then, initialize the model and start the grid search:"
   ]
  },
  {
   "cell_type": "code",
   "execution_count": null,
   "metadata": {
    "ExecuteTime": {
     "start_time": "2022-04-14T14:38:18.080Z"
    }
   },
   "outputs": [],
   "source": [
    "model = EvoTSNE(verbose = 2, init = Y_init_ts)\n",
    "\n",
    "df_grid_results = model.grid_search(param_grid, D_ts)"
   ]
  },
  {
   "cell_type": "code",
   "execution_count": null,
   "metadata": {
    "ExecuteTime": {
     "start_time": "2022-04-14T14:38:18.082Z"
    }
   },
   "outputs": [],
   "source": [
    "fig, ax = plt.subplots(1,3, figsize = (20,7))\n",
    "\n",
    "sns.barplot(x = 'alpha', y = 'static_cost', hue = 'p', data = df_grid_results, ax = ax[0])\n",
    "sns.barplot(x = 'alpha', y = 'misalign_norm', hue = 'p', data = df_grid_results, ax = ax[1])\n",
    "sns.barplot(x = 'alpha', y = 'pers', hue = 'p', data = df_grid_results, ax = ax[2])"
   ]
  },
  {
   "cell_type": "markdown",
   "metadata": {},
   "source": [
    "Based on this evaluation, one can select suitable parameter combinations and inspect them further visually. \n",
    "\n",
    "Here, alpha = 0.001 and p = 3 seem reasonable. To use them, either create a new model instance or use the ```set_params()``` function to override the parameters of an existing model instance."
   ]
  },
  {
   "cell_type": "code",
   "execution_count": null,
   "metadata": {
    "ExecuteTime": {
     "start_time": "2022-04-14T14:38:18.084Z"
    }
   },
   "outputs": [],
   "source": [
    "Y_t = model.set_params({'alpha': 0.001, 'p': 3}).fit_transform(D_ts)"
   ]
  },
  {
   "cell_type": "code",
   "execution_count": null,
   "metadata": {
    "ExecuteTime": {
     "start_time": "2022-04-14T14:38:18.086Z"
    }
   },
   "outputs": [],
   "source": [
    "draw_dynamic_map(Y_t, c = sic_codes)"
   ]
  },
  {
   "cell_type": "code",
   "execution_count": null,
   "metadata": {
    "ExecuteTime": {
     "start_time": "2022-04-14T14:38:18.089Z"
    }
   },
   "outputs": [],
   "source": [
    "focus_firms = [\n",
    "    'AT&T INC', \n",
    "    'APPLE INC']\n",
    "\n",
    "draw_trajectories(Y_t, labels = names, selected_labels = focus_firms, \n",
    "                  title_str = \"Selected Trajectories (after tuning)\", period_labels = years)"
   ]
  },
  {
   "cell_type": "markdown",
   "metadata": {},
   "source": [
    "As with any unsupervised learning technique, tuning these maps is both science and art. As there typically is no ground-truth known, it is typically impossible to objectively identify a single best solution. Instead, the grid results should serve as a basis to identify suitable values, from which you should always compare different solutions.    "
   ]
  },
  {
   "cell_type": "markdown",
   "metadata": {},
   "source": [
    "<a id = 'section_6'></a>\n",
    "\n",
    "## Choosing a Different Mapping Method\n",
    "\n",
    "Thus far, this tutorial only used a single mapping method (t-SNE). While t-SNE works particularly well for large datasets, it has certain properties that make it less suitable for smaller datasets (e.g., map positions are estimated based on nearest neighborhood probabilities, rather than the actual input distances). \n",
    "\n",
    "In such (and other) cases, Multidimensional Scaling (MDS) and its variants might be the preferred choice. Therefore, we also provide an implementation of EvoMap for MDS: ```EvoMDS()```\n",
    "\n",
    "For this demonstration, let's first pick a smaller sample:"
   ]
  },
  {
   "cell_type": "code",
   "execution_count": null,
   "metadata": {
    "ExecuteTime": {
     "start_time": "2022-04-14T14:38:18.091Z"
    }
   },
   "outputs": [],
   "source": [
    "sample_firms = [\n",
    "    'US CELLULAR CORP', \n",
    "    'AT&T INC', \n",
    "    'MICROSOFT CORP', \n",
    "    'WESTERN DIGITAL CORP', \n",
    "    'ORACLE CORP', \n",
    "    'EBAY INC', \n",
    "    'INTUIT INC', \n",
    "    'APPLE INC'] \n",
    "\n",
    "df_sample = df_tnic.query('name1 in @sample_firms').query('name2 in @sample_firms')\n",
    "\n",
    "D_ts, names, years = build_distance_matrices(df_sample)\n",
    "n_samples = D_ts[0].shape[0]\n",
    "n_periods = len(D_ts)"
   ]
  },
  {
   "cell_type": "markdown",
   "metadata": {},
   "source": [
    "Note that MDS does not transform the input distances in any way, but rather tries to fit map positions to them as closely as possible. Therefore, always make sure that your input distances are on a reasonable scale. If input distances are very large, for instance, gradient norms can quickly explode and it can become challenging to reach a good solution. Normalizing the input distances to a smaller range can help to avoid such cases and does not affect the resultant maps up to scaling their coordinate system. Make sure, however, to normalize each distance matrix in the sequence by the same factor!"
   ]
  },
  {
   "cell_type": "code",
   "execution_count": null,
   "metadata": {
    "ExecuteTime": {
     "start_time": "2022-04-14T14:38:18.094Z"
    }
   },
   "outputs": [],
   "source": [
    "from evomap.transformations import normalize_distances\n",
    "D_ts_norm = normalize_distances(D_ts)"
   ]
  },
  {
   "cell_type": "markdown",
   "metadata": {
    "ExecuteTime": {
     "end_time": "2022-04-14T13:54:56.432423Z",
     "start_time": "2022-04-14T13:54:56.418466Z"
    }
   },
   "source": [
    "Running EvoMap for MDS follows the same syntax as running it for t-SNE. Note, however, that some arguments for both classes differ, as they use different optimization routines. \n",
    "\n",
    "**Note:** MDS optimizes a different static cost function than t-SNE (Stress, rather than KL Divergence). As the output of these functions are scaled differently, 'good' values for the hyperparamters can (and often will) differ. Thus, make sure to run the grid search for MDS separately.  "
   ]
  },
  {
   "cell_type": "code",
   "execution_count": null,
   "metadata": {
    "ExecuteTime": {
     "start_time": "2022-04-14T14:38:18.097Z"
    }
   },
   "outputs": [],
   "source": [
    "from evomap.EvoMDS import EvoMDS\n",
    "\n",
    "param_grid = {\n",
    "    'alpha': [0.01, 0.05, 0.1, 0.5, 1, 5, 10], \n",
    "    'p': [1,2]}\n",
    "\n",
    "model_MDS = EvoMDS(\n",
    "    verbose = 2, n_inits = 1)\n",
    "\n",
    "df_res = model_MDS.grid_search(param_grid, D_ts_norm)"
   ]
  },
  {
   "cell_type": "code",
   "execution_count": null,
   "metadata": {
    "ExecuteTime": {
     "start_time": "2022-04-14T14:38:18.099Z"
    }
   },
   "outputs": [],
   "source": [
    "fig, ax = plt.subplots(1,3, figsize = (20,7))\n",
    "\n",
    "sns.barplot(x = 'alpha', y = 'static_cost', hue = 'p', data = df_res, ax = ax[0])\n",
    "sns.barplot(x = 'alpha', y = 'misalign_norm', hue = 'p', data = df_res, ax = ax[1])\n",
    "sns.barplot(x = 'alpha', y = 'pers', hue = 'p', data = df_res, ax = ax[2])"
   ]
  },
  {
   "cell_type": "markdown",
   "metadata": {},
   "source": [
    "From this graph, alpha = 1 and p = 2 seem reasonable. For higher values of alpha, p would need to be decreased to 1 (as otherwise static cost rises substantially). For alpha = 1 and p = 2, misalignment is small (below 10%) and persistence is high (> 80%). "
   ]
  },
  {
   "cell_type": "code",
   "execution_count": null,
   "metadata": {
    "ExecuteTime": {
     "start_time": "2022-04-14T14:38:18.103Z"
    }
   },
   "outputs": [],
   "source": [
    "model_MDS.set_params({'alpha': 1, 'p': 2})\n",
    "Y_ts_MDS = model_MDS.fit_transform(D_ts)"
   ]
  },
  {
   "cell_type": "code",
   "execution_count": null,
   "metadata": {
    "ExecuteTime": {
     "start_time": "2022-04-14T14:38:18.105Z"
    }
   },
   "outputs": [],
   "source": [
    "draw_dynamic_map(Y_ts_MDS, show_arrows = True)"
   ]
  },
  {
   "cell_type": "code",
   "execution_count": null,
   "metadata": {
    "ExecuteTime": {
     "start_time": "2022-04-14T14:38:18.107Z"
    },
    "scrolled": true
   },
   "outputs": [],
   "source": [
    "draw_trajectories(Y_ts_MDS, labels = names, title_str = \"Selected Trajectories (MDS; after tuning)\", period_labels = years)"
   ]
  },
  {
   "cell_type": "markdown",
   "metadata": {},
   "source": [
    "<a id = 'section_7'></a>\n",
    "## Special Cases, Extensions and Troubleshooting\n",
    "\n",
    "### Inclusions / Exclusions\n",
    "<a id = \"inclusions\"></a>"
   ]
  },
  {
   "cell_type": "code",
   "execution_count": null,
   "metadata": {},
   "outputs": [],
   "source": []
  },
  {
   "cell_type": "markdown",
   "metadata": {},
   "source": [
    "### Optimization Settings"
   ]
  },
  {
   "cell_type": "code",
   "execution_count": null,
   "metadata": {},
   "outputs": [],
   "source": []
  }
 ],
 "metadata": {
  "interpreter": {
   "hash": "b3ba2566441a7c06988d0923437866b63cedc61552a5af99d1f4fb67d367b25f"
  },
  "kernelspec": {
   "display_name": "Python 3",
   "language": "python",
   "name": "python3"
  },
  "language_info": {
   "codemirror_mode": {
    "name": "ipython",
    "version": 3
   },
   "file_extension": ".py",
   "mimetype": "text/x-python",
   "name": "python",
   "nbconvert_exporter": "python",
   "pygments_lexer": "ipython3",
   "version": "3.9.12"
  },
  "toc": {
   "base_numbering": 1,
   "nav_menu": {},
   "number_sections": false,
   "sideBar": true,
   "skip_h1_title": false,
   "title_cell": "Table of Contents",
   "title_sidebar": "Contents",
   "toc_cell": false,
   "toc_position": {
    "height": "calc(100% - 180px)",
    "left": "10px",
    "top": "150px",
    "width": "261px"
   },
   "toc_section_display": true,
   "toc_window_display": true
  },
  "varInspector": {
   "cols": {
    "lenName": 16,
    "lenType": 16,
    "lenVar": 40
   },
   "kernels_config": {
    "python": {
     "delete_cmd_postfix": "",
     "delete_cmd_prefix": "del ",
     "library": "var_list.py",
     "varRefreshCmd": "print(var_dic_list())"
    },
    "r": {
     "delete_cmd_postfix": ") ",
     "delete_cmd_prefix": "rm(",
     "library": "var_list.r",
     "varRefreshCmd": "cat(var_dic_list()) "
    }
   },
   "oldHeight": 576.713,
   "position": {
    "height": "31px",
    "left": "440.398px",
    "right": "20px",
    "top": "73.9659px",
    "width": "800px"
   },
   "types_to_exclude": [
    "module",
    "function",
    "builtin_function_or_method",
    "instance",
    "_Feature"
   ],
   "varInspector_section_display": "none",
   "window_display": false
  }
 },
 "nbformat": 4,
 "nbformat_minor": 2
}
